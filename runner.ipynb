{
 "cells": [
  {
   "cell_type": "code",
   "execution_count": 2,
   "metadata": {},
   "outputs": [
    {
     "name": "stderr",
     "output_type": "stream",
     "text": [
      "/home/lev/code/research/ai/lattice_cluster_paths/.venv/lib/python3.9/site-packages/tqdm/auto.py:21: TqdmWarning: IProgress not found. Please update jupyter and ipywidgets. See https://ipywidgets.readthedocs.io/en/stable/user_install.html\n",
      "  from .autonotebook import tqdm as notebook_tqdm\n",
      "Special tokens have been added in the vocabulary, make sure the associated word embeddings are fine-tuned or trained.\n"
     ]
    },
    {
     "name": "stdout",
     "output_type": "stream",
     "text": [
      "Loaded pretrained model EleutherAI/pythia-70m into HookedTransformer\n",
      "Moving model to device:  cuda\n"
     ]
    }
   ],
   "source": [
    "from cluster_model import get_dataset, get_transformer, DATASET_NAME, MODEL_NAME, SEED, N_DATASIZE, get_block_out_label, N_BLOCKS\n",
    "import cluster_model\n",
    "\n",
    "ds = get_dataset(DATASET_NAME)\n",
    "model, _ = get_transformer(MODEL_NAME)\n",
    "shuffled = ds.shuffle(seed=SEED)['train'][:N_DATASIZE]['text']\n",
    "\n",
    "ds = shuffled\n",
    "labs = [get_block_out_label(i) for i in range(N_BLOCKS)]"
   ]
  },
  {
   "cell_type": "code",
   "execution_count": 37,
   "metadata": {},
   "outputs": [
    {
     "name": "stdout",
     "output_type": "stream",
     "text": [
      "Finding optimal number of clusters and such clusters for layer blocks.0.hook_resid_post\n",
      "Loading GMM clusters from cache\n",
      "Finding optimal number of clusters and such clusters for layer blocks.1.hook_resid_post\n",
      "Loading GMM clusters from cache\n",
      "Finding optimal number of clusters and such clusters for layer blocks.2.hook_resid_post\n",
      "Loading GMM clusters from cache\n",
      "Loading cluster scores from cache\n"
     ]
    }
   ],
   "source": [
    "import importlib\n",
    "importlib.reload(cluster_model)\n",
    "\n",
    "decomp = cluster_model.Decomposer(model, ds, labs, similarity_cutoff=19)\n",
    "decomp.load()"
   ]
  },
  {
   "cell_type": "code",
   "execution_count": 50,
   "metadata": {},
   "outputs": [
    {
     "name": "stdout",
     "output_type": "stream",
     "text": [
      "Most negative absolute value: 1e-06\n",
      "We have 120 clusters\n",
      "[(3465002, [0, 8, 57, 89, 120])]\n"
     ]
    },
    {
     "data": {
      "text/plain": [
       "(None, <networkx.classes.digraph.DiGraph at 0x71990df428b0>)"
      ]
     },
     "execution_count": 50,
     "metadata": {},
     "output_type": "execute_result"
    }
   ],
   "source": [
    "from cluster_model import find_max_weight\n",
    "\n",
    "find_max_weight(decomp.lattice_scores, K=20)"
   ]
  },
  {
   "cell_type": "code",
   "execution_count": null,
   "metadata": {},
   "outputs": [],
   "source": [
    "max_score = max(max(d) for d in decomp.lattice_scores)\n",
    "min_score = min(min(d) for d in decomp.lattice_scores)\n",
    "lattice_scores_as_probs = [[(d - min_score) / (max_score - min_score)\n",
    "                            for d in ds] for ds in decomp.lattice_scores]\n",
    "\n",
    "\n",
    "def viterbi(obs, states, start_p, trans_p, emit_p):\n",
    "    V = [{}]\n",
    "    for st in states:\n",
    "        V[0][st] = {\"prob\": start_p[st] * emit_p[st][obs[0]], \"prev\": None}\n",
    "    for t in range(1, len(obs)):\n",
    "        V.append({})\n",
    "        for st in states:\n",
    "            max_tr_prob = max(V[t-1][prev_st][\"prob\"] *\n",
    "                              trans_p[prev_st][st] for prev_st in states)\n",
    "            for prev_st in states:\n",
    "                if V[t-1][prev_st][\"prob\"]*trans_p[prev_st][st] == max_tr_prob:\n",
    "                    max_prob = max_tr_prob * emit_p[st][obs[t]]\n",
    "                    V[t][st] = {\"prob\": max_prob, \"prev\": prev_st}\n",
    "                    break\n",
    "    return V"
   ]
  },
  {
   "cell_type": "code",
   "execution_count": 46,
   "metadata": {},
   "outputs": [
    {
     "name": "stdout",
     "output_type": "stream",
     "text": [
      "DS (3, 278, 512) 278\n",
      "(278, 3, 512) [10, 63, 89]\n"
     ]
    }
   ],
   "source": [
    "score_path= [8, 57, 89]\n",
    "score_path= [10, 63, 89]\n",
    "to_score = [d[:100] for d in ds][:10]\n",
    "scores = decomp.score(\n",
    "\tto_score,\n",
    "\tscore_path=score_path\n",
    ")"
   ]
  },
  {
   "cell_type": "code",
   "execution_count": 47,
   "metadata": {},
   "outputs": [],
   "source": [
    "tokens = [[model.tokenizer.decode(t) for t in model.tokenizer(d)['input_ids']] for d in to_score]"
   ]
  },
  {
   "cell_type": "code",
   "execution_count": 48,
   "metadata": {},
   "outputs": [],
   "source": [
    "from circuitsvis.utils.render import RenderedHTML, render\n",
    "\n",
    "# TODO sep fun\n",
    "html = render(\n",
    "        \"TextNeuronActivations\",\n",
    "        tokens=tokens,\n",
    "        activations=[[[[tok]] for tok in s] for s in scores],\n",
    "        firstDimensionName=\"Layer\",\n",
    "        secondDimensionName=\"Neuron\",\n",
    "        firstDimensionLabels=None,\n",
    "\t\t\t\tsecondDimensionLabels=None\n",
    "    )"
   ]
  },
  {
   "cell_type": "code",
   "execution_count": 49,
   "metadata": {},
   "outputs": [
    {
     "name": "stderr",
     "output_type": "stream",
     "text": [
      "/tmp/ipykernel_319930/288767411.py:1: DeprecationWarning: Importing display from IPython.core.display is deprecated since IPython 7.14, please import from IPython display\n",
      "  from IPython.core.display import display, HTML\n"
     ]
    },
    {
     "data": {
      "text/html": [
       "<div id=\"circuits-vis-264ec9c6-09e4\" style=\"margin: 15px 0;\"/>\n",
       "    <script crossorigin type=\"module\">\n",
       "    import { render, TextNeuronActivations } from \"https://unpkg.com/circuitsvis@1.43.2/dist/cdn/esm.js\";\n",
       "    render(\n",
       "      \"circuits-vis-264ec9c6-09e4\",\n",
       "      TextNeuronActivations,\n",
       "      {\"tokens\": [[\"Con\", \"vention\", \"ally\", \",\", \" a\", \" scheme\", \" that\", \" a\", \" value\", \" of\", \" plural\", \" bits\", \" is\", \" stored\", \" in\", \" a\", \" single\", \" memory\", \" cell\", \" transistor\", \" is\"], [\"A\", \" program\", \" in\", \" Quick\", \"basic\", \" for\", \" the\", \" estimation\", \" of\", \" cardiac\", \" output\", \".\", \"\\n\", \"The\", \" current\", \" program\", \" in\", \" Quick\", \"basic\", \" prov\"], [\"The\", \" Music\", \" of\", \" the\", \" MRI\", \"\\n\", \"\\n\", \"\\u201c\", \"Take\", \" a\", \" picture\", \",\", \" what\", \"\\u2019\", \"s\", \" inside\", \"?\", \"\\n\", \"G\", \"host\", \" image\", \" in\", \" my\", \" mind\", \"\\n\", \"Natural\", \" pattern\", \" like\", \" a\", \" \"], [\"/*\", \"\\n\", \" *\", \" Q\", \"EM\", \"U\", \" Common\", \" PCI\", \" Host\", \" bridge\", \" configuration\", \" data\", \" space\", \" access\", \" routines\", \".\", \"\\n\", \" *\", \"\\n\", \" *\", \" Copyright\", \" (\", \"c\", \")\", \" 2006\"], [\"\\n\", \"\\n\", \"D\", \"ress\", \" to\", \" Profess\", \":\", \" What\", \" Should\", \" Scientists\", \" W\", \"ear\", \"?\", \" -\", \" ja\", \"wn\", \"s\", \"\\n\", \"http\", \"://\", \"science\", \"care\", \"ers\", \".\", \"science\", \"mag\", \".\", \"org\", \"/\", \"care\", \"er\"], [\"I\", \"an\", \" Watson\", \" (\", \"author\", \")\", \"\\n\", \"\\n\", \"I\", \"an\", \" Watson\", \" (\", \"born\", \" 20\", \" April\", \" 1943\", \")\", \" is\", \" a\", \" British\", \" science\", \" fiction\", \" writer\", \".\", \" He\", \" lives\", \" i\"], [\"AML\", \" &\", \" Identity\", \" Ver\", \"ification\", \" Policy\", \"\\n\", \"\\n\", \"This\", \" Anti\", \"-\", \"Money\", \" La\", \"undering\", \" ('\", \"AML\", \"')\", \" Policy\", \" and\", \" Identity\", \" Ver\", \"ific\", \"at\"], [\"Do\", \" you\", \" support\", \" a\", \" path\", \" to\", \" citizenship\", \" for\", \" Dream\", \"ers\", \"?\", \"\\n\", \"\\n\", \"Story\", \" TO\", \"p\", \"ics\", \"\\n\", \"\\n\", \"On\", \" Tuesday\", \",\", \" President\", \" Obama\", \" sent\", \" a\"], [\"58\", \" F\", \".\", \"3\", \"d\", \" 12\", \"66\", \"\\n\", \"P\", \"ens\", \".\", \" Plan\", \" Guide\", \" P\", \" 239\", \"13\", \"T\", \"INTER\", \"N\", \"ATIONAL\", \" ASS\", \"OC\", \"I\", \"ATION\", \" OF\", \" E\", \"NT\", \"RE\", \"PR\", \"ENE\", \"UR\", \"S\", \" OF\", \" AMERICA\", \";\", \"Intern\", \"at\"], [\"Q\", \":\", \"\\n\", \"\\n\", \"A\", \" GUI\", \"-\", \"Less\", \" Browser\", \" to\", \" scrape\", \" with\", \"\\n\", \"\\n\", \"I\", \"'m\", \" writing\", \" a\", \" tool\", \" to\", \" get\", \" info\", \" from\", \" several\", \" websites\", \",\", \" all\", \" req\"]], \"activations\": [[[[0.0]], [[1.778919066959921e-196]], [[1.8700156470865415e-259]], [[1.9369092181176914e-195]], [[0.0]], [[0.0]], [[8.361006340213307e-187]], [[0.0]], [[0.0]], [[2.3152974708816735e-216]], [[0.0]], [[3.362075042784094e-204]], [[1.0795394330827184e-102]], [[0.0]], [[8.754180374488425e-233]], [[4.2288328797296e-310]], [[0.0]], [[1.981112635237975e-266]], [[5.433885700217001e-239]], [[7.062343270999526e-105]], [[4.57063289099564e-151]], [[0.0]]], [[[0.0]], [[0.0]], [[1.1436789885414721e-243]], [[4.034628374829618e-285]], [[4.947935745659563e-218]], [[2.6165761912605727e-122]], [[1.7195008115046966e-306]], [[1.0]], [[1.0366794605421197e-215]], [[0.0]], [[7.484651520469496e-244]], [[1.53215346751211e-196]], [[0.0]], [[0.0]], [[1.0]], [[6.0183715069147524e-207]], [[6.497405704514946e-158]], [[4.7e-322]], [[1.397252053512633e-238]], [[3.0994118232745205e-117]], [[3.0127387046347915e-232]]], [[[0.0]], [[0.0]], [[8.119190822926103e-170]], [[2.2694742688502e-310]], [[1.0]], [[3.7794945009906787e-131]], [[0.0]], [[0.0]], [[0.0]], [[1.2098203951281575e-175]], [[0.0]], [[1.6051150361332058e-194]], [[0.0]], [[0.0]], [[0.0]], [[1.7789398212612344e-234]], [[6.682705986050558e-275]], [[2.825152276950666e-278]], [[0.0]], [[1.1796468290519082e-293]], [[7.379353844503301e-83]], [[8.364540423919279e-131]], [[1.6146946229387344e-307]], [[0.0]], [[7.024760992071213e-238]], [[0.0]], [[3.8399900489294716e-187]], [[3.988446073809442e-157]], [[9.086238228873312e-280]], [[0.0]], [[8.387062095724584e-262]]], [[[0.0]], [[0.0]], [[0.0]], [[0.0]], [[1.334491904e-314]], [[2.0297194397608676e-56]], [[1.0]], [[2.810997527671447e-192]], [[3.67029295851472e-139]], [[2.2667121793115457e-158]], [[1.1585336804725676e-158]], [[1.9688087513916822e-214]], [[2.157645377551088e-213]], [[1.9516689864037139e-177]], [[9.74525422113817e-212]], [[2.2567038819494556e-173]], [[0.0]], [[0.0]], [[0.0]], [[0.0]], [[0.0]], [[0.0]], [[0.0]], [[1.9545450939597486e-246]], [[0.0]], [[0.0]]], [[[0.0]], [[0.0]], [[0.0]], [[0.0]], [[5.752937986137247e-66]], [[1.0]], [[9.009218547901793e-257]], [[4.3544004293e-314]], [[0.0]], [[5.969719102718192e-284]], [[4.598198619168912e-186]], [[5.553e-321]], [[2.0603097190264025e-104]], [[2.0234705783485725e-272]], [[1.429245545697896e-309]], [[5.643201643902087e-143]], [[1.0]], [[1.5459038449939405e-14]], [[0.0]], [[1.510397438866555e-259]], [[0.0]], [[5.375157344947822e-134]], [[1.5525977787270373e-175]], [[6.649822884656607e-70]], [[0.0]], [[7.870912266574026e-167]], [[1.0]], [[0.0]], [[1.4675000997789179e-86]], [[3.240198243858641e-254]], [[1.0513920359679033e-195]], [[5.675201718379784e-90]]], [[[0.0]], [[0.0]], [[1.0]], [[4.584760942725609e-193]], [[0.0]], [[1.0302439210734972e-143]], [[0.0]], [[0.0]], [[0.0]], [[0.0]], [[1.0]], [[5.656059616274831e-287]], [[0.0]], [[1.2918905029555192e-260]], [[5.203103588952327e-301]], [[0.0]], [[0.0]], [[0.0]], [[0.0]], [[0.0]], [[0.0]], [[8.813794760180117e-196]], [[2.2952296515300596e-212]], [[9.928823982931537e-270]], [[0.0]], [[0.0]], [[3.3570039392666804e-256]], [[2.1755742779876616e-07]]], [[[0.0]], [[1.283127738820907e-309]], [[1.0]], [[6.19085699210686e-169]], [[2.3630079888676574e-227]], [[8.192640659847481e-181]], [[1.8316427891343104e-185]], [[0.0]], [[0.0]], [[0.0]], [[2.48480951958635e-221]], [[0.0]], [[1.853852905916987e-197]], [[8.29995169174095e-89]], [[2.1493016224290192e-161]], [[0.0]], [[5.947380673842605e-138]], [[4.4157517158708205e-272]], [[1.613147364500029e-173]], [[0.0]], [[1.607116207368189e-146]], [[4.3985289160813155e-198]], [[1.0]], [[1.0]]], [[[0.0]], [[2.858257334445719e-249]], [[0.0]], [[1.7268877074904402e-157]], [[0.0]], [[6.303783785537786e-155]], [[1.0]], [[1.6913682370318706e-177]], [[1.1361203972244367e-299]], [[4.073548678307144e-190]], [[1.052272416355485e-69]], [[0.0]], [[0.0]], [[0.0]], [[1.424761144114128e-218]], [[1.0]], [[1.0]], [[8.858047560215924e-26]], [[0.0]], [[0.0]], [[6.168975999415291e-191]], [[0.0]], [[0.0]], [[6.30610977011655e-219]], [[7.311987864778304e-171]], [[1.105375363556245e-239]], [[0.0]]], [[[0.0]], [[0.0]], [[0.0]], [[0.0]], [[0.0]], [[0.0]], [[0.0]], [[8.362142285238819e-303]], [[0.0]], [[5.9379010082135434e-297]], [[1.0]], [[0.0]], [[6.2587832447849415e-143]], [[2.8191808007917476e-115]], [[1.900359096138e-311]], [[3.3810800575133282e-282]], [[8.872144142409517e-252]], [[1.0]], [[1.0]], [[1.0]], [[2.934373525844971e-138]], [[4.784286768032152e-205]], [[1.0]], [[1.0]], [[2.378730805021437e-105]], [[1.0537679734402482e-247]], [[6.629856515913813e-243]], [[1.0]], [[1.0]], [[1.0]], [[1.0]], [[1.0]], [[1.0]], [[1.9323137517055757e-242]], [[1.8245490406176955e-178]], [[0.0]], [[3.928711114556554e-07]], [[1.0]]], [[[0.0]], [[0.0]], [[0.0]], [[0.0]], [[0.0]], [[0.0]], [[1.5066809460411475e-220]], [[0.0]], [[7.430054042496689e-165]], [[4.6679016429805456e-197]], [[1.0]], [[2.2177199977246196e-270]], [[6.869296702295981e-241]], [[0.0]], [[0.0]], [[0.0]], [[0.0]], [[9.904103131236319e-253]], [[0.0]], [[3.2745426760881137e-211]], [[1.0]], [[1.606807765959383e-309]], [[5.881967565012183e-183]], [[4.4638715703504e-310]], [[1.5120306e-317]], [[3.885276620400717e-217]], [[0.0]], [[0.0]], [[2.306274236596281e-87]]]], \"firstDimensionName\": \"Layer\", \"secondDimensionName\": \"Neuron\"}\n",
       "    )\n",
       "    </script>"
      ],
      "text/plain": [
       "<IPython.core.display.HTML object>"
      ]
     },
     "metadata": {},
     "output_type": "display_data"
    }
   ],
   "source": [
    "from IPython.core.display import display, HTML\n",
    "\n",
    "display(HTML(str(html)))"
   ]
  }
 ],
 "metadata": {
  "kernelspec": {
   "display_name": ".venv",
   "language": "python",
   "name": "python3"
  },
  "language_info": {
   "codemirror_mode": {
    "name": "ipython",
    "version": 3
   },
   "file_extension": ".py",
   "mimetype": "text/x-python",
   "name": "python",
   "nbconvert_exporter": "python",
   "pygments_lexer": "ipython3",
   "version": "3.9.18"
  }
 },
 "nbformat": 4,
 "nbformat_minor": 2
}

{
 "cells": [
  {
   "cell_type": "code",
   "execution_count": 2,
   "metadata": {},
   "outputs": [
    {
     "name": "stderr",
     "output_type": "stream",
     "text": [
      "/home/lev/code/research/ai/lattice_cluster_paths/.venv/lib/python3.9/site-packages/tqdm/auto.py:21: TqdmWarning: IProgress not found. Please update jupyter and ipywidgets. See https://ipywidgets.readthedocs.io/en/stable/user_install.html\n",
      "  from .autonotebook import tqdm as notebook_tqdm\n",
      "Special tokens have been added in the vocabulary, make sure the associated word embeddings are fine-tuned or trained.\n"
     ]
    },
    {
     "name": "stdout",
     "output_type": "stream",
     "text": [
      "Loaded pretrained model EleutherAI/pythia-70m into HookedTransformer\n",
      "Moving model to device:  cuda\n"
     ]
    }
   ],
   "source": [
    "from cluster_model import get_dataset, get_transformer, DATASET_NAME, MODEL_NAME, SEED, N_DATASIZE, get_block_out_label, N_BLOCKS\n",
    "import cluster_model\n",
    "\n",
    "ds = get_dataset(DATASET_NAME)\n",
    "model, _ = get_transformer(MODEL_NAME)\n",
    "shuffled = ds.shuffle(seed=SEED)['train'][:N_DATASIZE]['text']\n",
    "\n",
    "ds = shuffled\n",
    "labs = [get_block_out_label(i) for i in range(N_BLOCKS)]"
   ]
  },
  {
   "cell_type": "code",
   "execution_count": 5,
   "metadata": {},
   "outputs": [
    {
     "name": "stdout",
     "output_type": "stream",
     "text": [
      "Finding optimal number of clusters and such clusters for layer blocks.0.hook_resid_post\n",
      "Loading GMM clusters from cache\n",
      "Finding optimal number of clusters and such clusters for layer blocks.1.hook_resid_post\n",
      "Loading GMM clusters from cache\n",
      "Finding optimal number of clusters and such clusters for layer blocks.2.hook_resid_post\n",
      "Loading GMM clusters from cache\n",
      "Loading cluster scores from cache\n"
     ]
    }
   ],
   "source": [
    "import importlib\n",
    "importlib.reload(cluster_model)\n",
    "\n",
    "decomp = cluster_model.Decomposer(model, ds, labs, similarity_cutoff=19)\n",
    "decomp.load()"
   ]
  },
  {
   "cell_type": "code",
   "execution_count": 6,
   "metadata": {},
   "outputs": [
    {
     "name": "stdout",
     "output_type": "stream",
     "text": [
      "DS (3, 278, 512) 278\n",
      "(278, 3, 512) [8, 57, 89]\n"
     ]
    }
   ],
   "source": [
    "to_score = [d[:100] for d in ds][:10]\n",
    "scores = decomp.score(\n",
    "\tto_score\n",
    ")"
   ]
  },
  {
   "cell_type": "code",
   "execution_count": 16,
   "metadata": {},
   "outputs": [
    {
     "data": {
      "text/plain": [
       "['Con',\n",
       " 'vention',\n",
       " 'ally',\n",
       " ',',\n",
       " ' a',\n",
       " ' scheme',\n",
       " ' that',\n",
       " ' a',\n",
       " ' value',\n",
       " ' of',\n",
       " ' plural',\n",
       " ' bits',\n",
       " ' is',\n",
       " ' stored',\n",
       " ' in',\n",
       " ' a',\n",
       " ' single',\n",
       " ' memory',\n",
       " ' cell',\n",
       " ' transistor',\n",
       " ' is']"
      ]
     },
     "execution_count": 16,
     "metadata": {},
     "output_type": "execute_result"
    }
   ],
   "source": [
    "tokens = [[model.tokenizer.decode(t) for t in model.tokenizer(d)['input_ids']] for d in to_score]\n",
    "tokens[0]"
   ]
  },
  {
   "cell_type": "code",
   "execution_count": 26,
   "metadata": {},
   "outputs": [],
   "source": [
    "from circuitsvis.utils.render import RenderedHTML, render\n",
    "import matplotlib\n",
    "\n",
    "# visualize_text(model, tokens, scores)\n",
    "html = render(\n",
    "        \"TextNeuronActivations\",\n",
    "        tokens=tokens,\n",
    "        activations=[[[s]] for s in scores],\n",
    "        firstDimensionName=\"Layer\",\n",
    "        secondDimensionName=\"Neuron\",\n",
    "        firstDimensionLabels=None,\n",
    "\t\t\t\tsecondDimensionLabels=second_dimension_labels\n",
    "    )"
   ]
  },
  {
   "cell_type": "code",
   "execution_count": 25,
   "metadata": {},
   "outputs": [
    {
     "data": {
      "text/html": [
       "<div id=\"circuits-vis-70efd717-e455\" style=\"margin: 15px 0;\"/>\n",
       "    <script crossorigin type=\"module\">\n",
       "    import { render, TextNeuronActivations } from \"https://unpkg.com/circuitsvis@1.43.2/dist/cdn/esm.js\";\n",
       "    render(\n",
       "      \"circuits-vis-70efd717-e455\",\n",
       "      TextNeuronActivations,\n",
       "      {\"tokens\": [[\"Con\", \"vention\", \"ally\", \",\", \" a\", \" scheme\", \" that\", \" a\", \" value\", \" of\", \" plural\", \" bits\", \" is\", \" stored\", \" in\", \" a\", \" single\", \" memory\", \" cell\", \" transistor\", \" is\"], [\"A\", \" program\", \" in\", \" Quick\", \"basic\", \" for\", \" the\", \" estimation\", \" of\", \" cardiac\", \" output\", \".\", \"\\n\", \"The\", \" current\", \" program\", \" in\", \" Quick\", \"basic\", \" prov\"], [\"The\", \" Music\", \" of\", \" the\", \" MRI\", \"\\n\", \"\\n\", \"\\u201c\", \"Take\", \" a\", \" picture\", \",\", \" what\", \"\\u2019\", \"s\", \" inside\", \"?\", \"\\n\", \"G\", \"host\", \" image\", \" in\", \" my\", \" mind\", \"\\n\", \"Natural\", \" pattern\", \" like\", \" a\", \" \"], [\"/*\", \"\\n\", \" *\", \" Q\", \"EM\", \"U\", \" Common\", \" PCI\", \" Host\", \" bridge\", \" configuration\", \" data\", \" space\", \" access\", \" routines\", \".\", \"\\n\", \" *\", \"\\n\", \" *\", \" Copyright\", \" (\", \"c\", \")\", \" 2006\"], [\"\\n\", \"\\n\", \"D\", \"ress\", \" to\", \" Profess\", \":\", \" What\", \" Should\", \" Scientists\", \" W\", \"ear\", \"?\", \" -\", \" ja\", \"wn\", \"s\", \"\\n\", \"http\", \"://\", \"science\", \"care\", \"ers\", \".\", \"science\", \"mag\", \".\", \"org\", \"/\", \"care\", \"er\"], [\"I\", \"an\", \" Watson\", \" (\", \"author\", \")\", \"\\n\", \"\\n\", \"I\", \"an\", \" Watson\", \" (\", \"born\", \" 20\", \" April\", \" 1943\", \")\", \" is\", \" a\", \" British\", \" science\", \" fiction\", \" writer\", \".\", \" He\", \" lives\", \" i\"], [\"AML\", \" &\", \" Identity\", \" Ver\", \"ification\", \" Policy\", \"\\n\", \"\\n\", \"This\", \" Anti\", \"-\", \"Money\", \" La\", \"undering\", \" ('\", \"AML\", \"')\", \" Policy\", \" and\", \" Identity\", \" Ver\", \"ific\", \"at\"], [\"Do\", \" you\", \" support\", \" a\", \" path\", \" to\", \" citizenship\", \" for\", \" Dream\", \"ers\", \"?\", \"\\n\", \"\\n\", \"Story\", \" TO\", \"p\", \"ics\", \"\\n\", \"\\n\", \"On\", \" Tuesday\", \",\", \" President\", \" Obama\", \" sent\", \" a\"], [\"58\", \" F\", \".\", \"3\", \"d\", \" 12\", \"66\", \"\\n\", \"P\", \"ens\", \".\", \" Plan\", \" Guide\", \" P\", \" 239\", \"13\", \"T\", \"INTER\", \"N\", \"ATIONAL\", \" ASS\", \"OC\", \"I\", \"ATION\", \" OF\", \" E\", \"NT\", \"RE\", \"PR\", \"ENE\", \"UR\", \"S\", \" OF\", \" AMERICA\", \";\", \"Intern\", \"at\"], [\"Q\", \":\", \"\\n\", \"\\n\", \"A\", \" GUI\", \"-\", \"Less\", \" Browser\", \" to\", \" scrape\", \" with\", \"\\n\", \"\\n\", \"I\", \"'m\", \" writing\", \" a\", \" tool\", \" to\", \" get\", \" info\", \" from\", \" several\", \" websites\", \",\", \" all\", \" req\"]], \"activations\": [[[[0.0, 0.0, 0.0, 0.0, 0.0, 0.0, 0.0, 0.0, 0.0, 0.0, 0.0, 0.0, 0.0, 0.0, 0.0, 0.0, 0.0, 0.0, 0.0, 0.0, 0.0, 0.0], [0.0, 0.0, 0.0, 0.0, 0.0, 0.0, 0.0, 3.0, 0.0, 0.0, 0.0, 0.0, 0.0, 0.0, 3.0, 0.0, 0.0, 0.0, 0.0, 0.0, 0.0], [0.0, 2.0, 0.0, 0.0, 3.0, 0.0, 0.0, 0.0, 0.0, 0.0, 0.0, 0.0, 0.0, 0.0, 0.0, 0.0, 0.0, 0.0, 0.0, 0.0, 0.0, 0.0, 0.0, 0.0, 0.0, 0.0, 0.0, 0.0, 0.0, 0.0, 0.0], [0.0, 0.0, 0.0, 0.0, 0.0, 0.0, 0.0, 0.0, 0.0, 0.0, 0.0, 0.0, 0.0, 0.0, 0.0, 0.0, 0.0, 0.0, 0.0, 0.0, 0.0, 0.0, 0.0, 0.0, 0.0, 0.0], [0.0, 0.0, 0.0, 0.0, 0.0, 0.0, 0.0, 0.0, 0.0, 0.0, 0.0, 0.0, 0.0, 0.0, 0.0, 0.0, 0.0, 0.0, 0.0, 0.0, 0.0, 0.0, 0.0, 0.0, 0.0, 0.0, 0.0, 0.0, 0.0, 0.0, 0.0, 0.0], [0.0, 0.0, 0.0, 0.0, 0.0, 0.0, 0.0, 0.0, 0.0, 0.0, 0.0, 0.0, 0.0, 0.0, 0.0, 0.0, 0.0, 0.0, 0.0, 0.0, 0.0, 0.0, 0.0, 0.0, 0.0, 0.0, 0.0, 0.0], [0.0, 0.0, 0.0, 0.0, 0.0, 0.0, 0.0, 0.0, 0.0, 0.0, 0.0, 0.0, 0.0, 0.0, 0.0, 0.0, 0.0, 0.0, 0.0, 0.0, 0.0, 0.0, 0.0, 0.0], [0.0, 0.0, 0.0, 0.0, 0.0, 0.0, 0.0, 0.0, 0.0, 0.0, 0.0, 0.0, 0.0, 0.0, 0.0, 0.0, 0.0, 0.0, 0.0, 0.0, 0.0, 0.0, 0.0, 0.0, 0.0, 0.0, 0.0], [0.0, 0.0, 0.0, 0.0, 0.0, 0.0, 0.0, 0.0, 0.0, 0.0, 0.0, 0.0, 0.0, 0.0, 0.0, 0.0, 0.0, 0.0, 0.0, 0.0, 0.0, 0.0, 0.0, 0.0, 0.0, 0.0, 0.0, 0.0, 0.0, 0.0, 0.0, 0.0, 0.0, 0.0, 0.0, 0.0, 0.0, 0.0], [0.0, 0.0, 0.0, 0.0, 0.0, 0.0, 0.0, 0.0, 0.0, 0.0, 0.0, 0.0, 0.0, 0.0, 0.0, 0.0, 0.0, 0.0, 0.0, 0.0, 0.0, 0.0, 0.0, 0.0, 0.0, 0.0, 0.0, 0.0, 0.0]]]], \"firstDimensionName\": \"Layer\", \"secondDimensionName\": \"Neuron\"}\n",
       "    )\n",
       "    </script>"
      ],
      "text/plain": [
       "<circuitsvis.utils.render.RenderedHTML at 0x7199401b7250>"
      ]
     },
     "execution_count": 25,
     "metadata": {},
     "output_type": "execute_result"
    }
   ],
   "source": [
    "html"
   ]
  }
 ],
 "metadata": {
  "kernelspec": {
   "display_name": ".venv",
   "language": "python",
   "name": "python3"
  },
  "language_info": {
   "codemirror_mode": {
    "name": "ipython",
    "version": 3
   },
   "file_extension": ".py",
   "mimetype": "text/x-python",
   "name": "python",
   "nbconvert_exporter": "python",
   "pygments_lexer": "ipython3",
   "version": "3.9.18"
  }
 },
 "nbformat": 4,
 "nbformat_minor": 2
}

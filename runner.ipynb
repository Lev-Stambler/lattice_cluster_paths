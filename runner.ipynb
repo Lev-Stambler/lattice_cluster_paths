{
 "cells": [
  {
   "cell_type": "code",
   "execution_count": 1,
   "metadata": {},
   "outputs": [
    {
     "name": "stderr",
     "output_type": "stream",
     "text": [
      "/home/lev/code/research/ai/lattice_cluster_paths/.venv/lib/python3.9/site-packages/tqdm/auto.py:21: TqdmWarning: IProgress not found. Please update jupyter and ipywidgets. See https://ipywidgets.readthedocs.io/en/stable/user_install.html\n",
      "  from .autonotebook import tqdm as notebook_tqdm\n"
     ]
    },
    {
     "name": "stdout",
     "output_type": "stream",
     "text": [
      "running k-means on cuda:0..\n"
     ]
    },
    {
     "name": "stderr",
     "output_type": "stream",
     "text": [
      "[running kmeans]: 10it [00:00, 53.58it/s, center_shift=0.000044, iteration=10, tol=0.000100]\n",
      "Special tokens have been added in the vocabulary, make sure the associated word embeddings are fine-tuned or trained.\n"
     ]
    },
    {
     "name": "stdout",
     "output_type": "stream",
     "text": [
      "Loaded pretrained model EleutherAI/pythia-70m into HookedTransformer\n",
      "Moving model to device:  cuda\n"
     ]
    }
   ],
   "source": [
    "from cluster_model import get_dataset, get_transformer, DATASET_NAME, MODEL_NAME, SEED, N_DATASIZE, get_block_out_label, N_BLOCKS\n",
    "import cluster_model\n",
    "\n",
    "ds = get_dataset(DATASET_NAME)\n",
    "model, _ = get_transformer(MODEL_NAME)\n",
    "shuffled = ds.shuffle(seed=SEED)['train'][:N_DATASIZE]['text']\n",
    "\n",
    "ds = shuffled\n",
    "labs = [get_block_out_label(i) for i in range(N_BLOCKS)]"
   ]
  },
  {
   "cell_type": "code",
   "execution_count": 2,
   "metadata": {},
   "outputs": [
    {
     "name": "stdout",
     "output_type": "stream",
     "text": [
      "Finding optimal number of clusters and such clusters for layer blocks.0.hook_resid_post\n",
      "Trying 50 clusters for layer blocks.0.hook_resid_post\n",
      "USING DEVICE cuda:0\n",
      "running k-means on cuda:0..\n"
     ]
    },
    {
     "name": "stderr",
     "output_type": "stream",
     "text": [
      "[running kmeans]: 26it [00:05,  5.16it/s, center_shift=0.000000, iteration=26, tol=0.000100]  \n"
     ]
    },
    {
     "name": "stdout",
     "output_type": "stream",
     "text": [
      "CLUSTER SHAPE torch.Size([50, 512])\n",
      "Finding optimal number of clusters and such clusters for layer blocks.1.hook_resid_post\n",
      "Trying 50 clusters for layer blocks.1.hook_resid_post\n",
      "USING DEVICE cuda:0\n",
      "running k-means on cuda:0..\n"
     ]
    },
    {
     "name": "stderr",
     "output_type": "stream",
     "text": [
      "[running kmeans]: 24it [00:04,  4.98it/s, center_shift=0.000000, iteration=24, tol=0.000100]  \n"
     ]
    },
    {
     "name": "stdout",
     "output_type": "stream",
     "text": [
      "CLUSTER SHAPE torch.Size([50, 512])\n",
      "Finding optimal number of clusters and such clusters for layer blocks.2.hook_resid_post\n",
      "Trying 50 clusters for layer blocks.2.hook_resid_post\n",
      "USING DEVICE cuda:0\n",
      "running k-means on cuda:0..\n"
     ]
    },
    {
     "name": "stderr",
     "output_type": "stream",
     "text": [
      "[running kmeans]: 29it [00:05,  5.12it/s, center_shift=0.000000, iteration=29, tol=0.000100]   \n"
     ]
    },
    {
     "name": "stdout",
     "output_type": "stream",
     "text": [
      "CLUSTER SHAPE torch.Size([50, 512])\n",
      "Finding optimal number of clusters and such clusters for layer blocks.3.hook_resid_post\n",
      "Trying 50 clusters for layer blocks.3.hook_resid_post\n",
      "USING DEVICE cuda:0\n",
      "running k-means on cuda:0..\n"
     ]
    },
    {
     "name": "stderr",
     "output_type": "stream",
     "text": [
      "[running kmeans]: 44it [00:09,  4.85it/s, center_shift=0.000000, iteration=44, tol=0.000100]   \n"
     ]
    },
    {
     "name": "stdout",
     "output_type": "stream",
     "text": [
      "CLUSTER SHAPE torch.Size([50, 512])\n",
      "Finding optimal number of clusters and such clusters for layer blocks.4.hook_resid_post\n",
      "Trying 50 clusters for layer blocks.4.hook_resid_post\n",
      "USING DEVICE cuda:0\n",
      "running k-means on cuda:0..\n"
     ]
    },
    {
     "name": "stderr",
     "output_type": "stream",
     "text": [
      "[running kmeans]: 39it [00:07,  5.04it/s, center_shift=0.000000, iteration=39, tol=0.000100]   \n"
     ]
    },
    {
     "name": "stdout",
     "output_type": "stream",
     "text": [
      "CLUSTER SHAPE torch.Size([50, 512])\n",
      "Getting cluster scores for lattice\n",
      "Getting scores for layers 0 to 1\n",
      "Getting scores for layers 1 to 2\n",
      "Getting scores for layers 2 to 3\n",
      "Getting scores for layers 3 to 4\n",
      "CLUSTER SCORES [array([[2.36796947, 2.39530803, 2.47232866, ..., 2.07615933, 2.459008  ,\n",
      "        2.41135878],\n",
      "       [2.30888491, 2.36441701, 2.42654503, ..., 2.03596475, 2.41157728,\n",
      "        2.34682514],\n",
      "       [2.45849513, 2.44546038, 2.5169896 , ..., 2.11990657, 2.53521847,\n",
      "        2.52458025],\n",
      "       ...,\n",
      "       [2.27056408, 2.27634524, 2.33436734, ..., 1.96454975, 2.35964031,\n",
      "        2.32024298],\n",
      "       [2.09042534, 2.15741455, 2.21479929, ..., 1.85518916, 2.18831181,\n",
      "        2.12166687],\n",
      "       [2.20429331, 2.25827734, 2.31741743, ..., 1.94552177, 2.30126356,\n",
      "        2.23906315]]), array([[2.20936052, 2.39251457, 2.35359832, ..., 2.13643841, 2.40919887,\n",
      "        2.200792  ],\n",
      "       [2.24101464, 2.42538745, 2.38581588, ..., 2.15134823, 2.41928255,\n",
      "        2.24182589],\n",
      "       [2.30980441, 2.4859923 , 2.45447043, ..., 2.21346898, 2.48920197,\n",
      "        2.3058875 ],\n",
      "       ...,\n",
      "       [1.93885013, 2.09085167, 2.06171416, ..., 1.86132926, 2.09333294,\n",
      "        1.93466642],\n",
      "       [2.2970568 , 2.4884925 , 2.44649226, ..., 2.21448464, 2.49536853,\n",
      "        2.29189591],\n",
      "       [2.25108478, 2.43344835, 2.39737038, ..., 2.18120752, 2.4610307 ,\n",
      "        2.24250961]]), array([[2.22480234, 2.22030993, 2.18786269, ..., 2.52014009, 2.28298798,\n",
      "        2.22999447],\n",
      "       [2.403776  , 2.40155531, 2.36167849, ..., 2.74022475, 2.47367759,\n",
      "        2.41234914],\n",
      "       [2.36670394, 2.36562138, 2.3290233 , ..., 2.68230253, 2.43170882,\n",
      "        2.37303434],\n",
      "       ...,\n",
      "       [2.13970898, 2.15118355, 2.11349236, ..., 2.4223784 , 2.21137558,\n",
      "        2.14419237],\n",
      "       [2.40354567, 2.4211372 , 2.3763737 , ..., 2.76320039, 2.49082538,\n",
      "        2.40896223],\n",
      "       [2.22365749, 2.21311072, 2.17913758, ..., 2.45910374, 2.27664316,\n",
      "        2.23152573]]), array([[2.44666171, 2.20791067, 2.39530822, ..., 2.11504606, 2.27377654,\n",
      "        2.31463555],\n",
      "       [2.43327836, 2.20459348, 2.39813184, ..., 2.11562554, 2.27930834,\n",
      "        2.32302913],\n",
      "       [2.39430607, 2.16567416, 2.35622674, ..., 2.08246563, 2.24232856,\n",
      "        2.28053271],\n",
      "       ...,\n",
      "       [2.6718282 , 2.39661311, 2.8917513 , ..., 2.38295676, 2.47206471,\n",
      "        2.63498756],\n",
      "       [2.52235621, 2.29194698, 2.47882106, ..., 2.17703897, 2.33813909,\n",
      "        2.39552607],\n",
      "       [2.45259922, 2.21115065, 2.40248184, ..., 2.11967444, 2.27508161,\n",
      "        2.31821288]])]\n"
     ]
    }
   ],
   "source": [
    "import importlib\n",
    "importlib.reload(cluster_model)\n",
    "\n",
    "decomp = cluster_model.Decomposer(model, ds, labs, similarity_cutoff=2)\n",
    "decomp.load()"
   ]
  },
  {
   "cell_type": "code",
   "execution_count": 3,
   "metadata": {},
   "outputs": [],
   "source": [
    "import utils\n",
    "importlib.reload(utils)\n",
    "utils.top_k_dag_paths_dynamic(decomp.lattice_scores, k=10_000)"
   ]
  },
  {
   "cell_type": "code",
   "execution_count": null,
   "metadata": {},
   "outputs": [
    {
     "name": "stdout",
     "output_type": "stream",
     "text": [
      "DS (3, 2816, 512) 2816\n",
      "(2816, 3, 512) [20, 1, 12]\n"
     ]
    }
   ],
   "source": [
    "\n",
    "score_path = [8, 57, 89]\n",
    "score_path = [10, 63, 89]\n",
    "score_path = [3, 3, 1]\n",
    "score_path = [20, 1, 12]\n",
    "\"\"\"\n",
    "Paths which seem to have meaning\n",
    "\n",
    "[1, 3, 25]: relational words like \"if\" \"in\" \"soon\"\n",
    "[1, 3, 10]: relational word but now it is more specific to \"to\"\n",
    "\"\"\"\n",
    "\n",
    "to_score = [d[:100] for d in ds][:100]\n",
    "scores = decomp.score(\n",
    "    to_score,\n",
    "    score_path=score_path\n",
    ")"
   ]
  },
  {
   "cell_type": "code",
   "execution_count": null,
   "metadata": {},
   "outputs": [],
   "source": [
    "import math\n",
    "import numpy as np\n",
    "\n",
    "scores_per_token_set = np.array([max(s) for s in scores])\n",
    "top_args = np.argsort(scores_per_token_set)[::-1]\n",
    "\n",
    "tokens = [[model.tokenizer.decode(t) for t in model.tokenizer(d)[\n",
    "    'input_ids']] for d in to_score]\n",
    "tokens_reord = [tokens[i] for i in top_args]\n",
    "scores_reord = [scores[i] for i in top_args]\n",
    "# TODO: SORT!\n",
    "\n",
    "# TODO sep fun\n",
    "from circuitsvis.utils.render import RenderedHTML, render\n",
    "html = render(\n",
    "    \"TextNeuronActivations\",\n",
    "    tokens=tokens_reord,\n",
    "    activations=[[[[0 if math.isnan(tok * 100) else int(math.exp(tok * 100))]] for tok in s] for s in scores_reord],\n",
    "    firstDimensionName=\"Layer\",\n",
    "    secondDimensionName=\"Neuron\",\n",
    "    firstDimensionLabels=None,\n",
    "    secondDimensionLabels=None\n",
    ")"
   ]
  },
  {
   "cell_type": "code",
   "execution_count": null,
   "metadata": {},
   "outputs": [
    {
     "data": {
      "text/plain": [
       "(array([1.31726889, 1.31726889, 1.31726889, 1.31726889, 1.31726889,\n",
       "        1.31726889, 1.31726889, 1.31726889, 1.31726889, 1.31726889,\n",
       "        1.31726889, 1.31726889, 1.31726889, 1.31726889, 1.31726889,\n",
       "        1.31726889, 1.31726889, 1.31726889, 1.31726889, 1.31726889,\n",
       "        1.31726889, 1.31726889, 1.31726889, 1.31726889, 1.31726889,\n",
       "        1.31726889, 1.31726889, 1.31726889, 1.31726889, 1.31726889,\n",
       "        1.31726889, 1.31726889, 1.31726889, 1.31726889, 1.31726889,\n",
       "        1.31726889, 1.31726889, 1.31726889, 1.31726889, 1.31726889,\n",
       "        1.31726889, 1.31726889, 1.31726889, 1.31726889, 1.31726889,\n",
       "        1.31726889, 1.31726889, 1.31726889, 1.31726889, 1.31726889,\n",
       "        1.31726889, 1.31726889, 1.31726889, 1.31726889, 1.31726889,\n",
       "        1.31726889, 1.31726889, 1.31726889, 1.31726889, 1.31726889,\n",
       "        1.31726889, 1.31726889, 1.31726889, 1.31726889, 1.31726889,\n",
       "        1.31726889, 1.31726889, 1.31726889, 1.31726889, 1.31726889,\n",
       "        1.31726889, 1.31726889, 1.31726889, 1.31726889, 1.31726889,\n",
       "        1.31726889, 1.31726889, 1.31726889, 1.31726889, 1.31726889,\n",
       "        1.31726889, 1.31726889, 1.31726889, 1.31726889, 1.31726889,\n",
       "        1.31726889, 1.31726889, 1.31726889, 1.31726889, 1.31726889,\n",
       "        1.31726889, 1.31726889, 1.31726889, 1.31726889, 1.31726889,\n",
       "        1.31726889, 1.31726889, 1.31726889, 1.31726889, 1.31726889]),\n",
       " array([1.31726889, 1.31726889, 1.31726889, 1.31726889, 1.31726889,\n",
       "        1.31726889, 1.31726889, 1.31726889, 1.31726889, 1.31726889,\n",
       "        1.31726889, 1.31726889, 1.31726889, 1.31726889, 1.31726889,\n",
       "        1.31726889, 1.31726889, 1.31726889, 1.31726889, 1.31726889,\n",
       "        1.31726889, 1.31726889, 1.31726889, 1.31726889, 1.31726889,\n",
       "        1.31726889, 1.31726889, 1.31726889, 1.31726889, 1.31726889,\n",
       "        1.31726889, 1.31726889, 1.31726889, 1.31726889, 1.31726889,\n",
       "        1.31726889, 1.31726889, 1.31726889, 1.31726889, 1.31726889,\n",
       "        1.31726889, 1.31726889, 1.31726889, 1.31726889, 1.31726889,\n",
       "        1.31726889, 1.31726889, 1.31726889, 1.31726889, 1.31726889,\n",
       "        1.31726889, 1.31726889, 1.31726889, 1.31726889, 1.31726889,\n",
       "        1.31726889, 1.31726889, 1.31726889, 1.31726889, 1.31726889,\n",
       "        1.31726889, 1.31726889, 1.31726889, 1.31726889, 1.31726889,\n",
       "        1.31726889, 1.31726889, 1.31726889, 1.31726889, 1.31726889,\n",
       "        1.31726889, 1.31726889, 1.31726889, 1.31726889, 1.31726889,\n",
       "        1.31726889, 1.31726889, 1.31726889, 1.31726889, 1.31726889,\n",
       "        1.31726889, 1.31726889, 1.31726889, 1.31726889, 1.31726889,\n",
       "        1.31726889, 1.31726889, 1.31726889, 1.31726889, 1.31726889,\n",
       "        1.31726889, 1.31726889, 1.31726889, 1.31726889, 1.31726889,\n",
       "        1.31726889, 1.31726889, 1.31726889, 1.31726889, 1.31726889]))"
      ]
     },
     "execution_count": 10,
     "metadata": {},
     "output_type": "execute_result"
    }
   ],
   "source": [
    "scores_per_token_set, scores_per_token_set[top_args]"
   ]
  },
  {
   "cell_type": "code",
   "execution_count": null,
   "metadata": {},
   "outputs": [
    {
     "name": "stderr",
     "output_type": "stream",
     "text": [
      "/tmp/ipykernel_282569/288767411.py:1: DeprecationWarning: Importing display from IPython.core.display is deprecated since IPython 7.14, please import from IPython display\n",
      "  from IPython.core.display import display, HTML\n"
     ]
    },
    {
     "data": {
      "text/html": [
       "<div id=\"circuits-vis-6bdaa4d6-8104\" style=\"margin: 15px 0;\"/>\n",
       "    <script crossorigin type=\"module\">\n",
       "    import { render, TextNeuronActivations } from \"https://unpkg.com/circuitsvis@1.43.2/dist/cdn/esm.js\";\n",
       "    render(\n",
       "      \"circuits-vis-6bdaa4d6-8104\",\n",
       "      TextNeuronActivations,\n",
       "      {\"tokens\": [[\"Con\", \"vention\", \"ally\", \",\", \" a\", \" scheme\", \" that\", \" a\", \" value\", \" of\", \" plural\", \" bits\", \" is\", \" stored\", \" in\", \" a\", \" single\", \" memory\", \" cell\", \" transistor\", \" is\"], [\"1\", \".\", \" Field\", \" of\", \" the\", \" Invention\", \"\\n\", \"The\", \" present\", \" invention\", \" relates\", \" to\", \" a\", \" wide\", \" lock\", \" range\", \" phase\", \" locked\", \" loop\", \" (\", \"PLL\", \")\"], [\"Some\", \" electronic\", \" components\", \",\", \" such\", \" as\", \" circuit\", \"-\", \"level\", \" devices\", \",\", \" integrated\", \"-\", \"circuit\", \"-\", \"level\", \" devices\", \",\", \" board\", \"-\", \"l\"], [\"I\", \" re\", \"-\", \"read\", \" The\", \" Gods\", \" The\", \"ms\", \"elves\", \" because\", \" it\", \" was\", \" 1972\", \"\\u2019\", \"s\", \" Hugo\", \" winner\", \",\", \" and\", \" all\", \" I\", \" could\", \" remember\", \" about\", \" it\", \" w\"], [\"Q\", \":\", \"\\n\", \"\\n\", \"error\", \" rg\", \"ding\", \" definition\", \" &\", \" no\", \" extension\", \" method\", \" for\", \" System\", \".\", \"Web\", \".\", \"R\", \"outing\", \".\", \"Route\", \"Value\", \"Dictionary\", \"\\n\", \"\\n\", \"I\", \" am\", \" \"], [\"---\", \"\\n\", \"abstract\", \":\", \" '\", \"This\", \" paper\", \" is\", \" to\", \" prove\", \" the\", \" asymptotic\", \" norm\", \"ality\", \" of\", \" a\", \" statistic\", \" for\", \" detecting\", \" the\", \" ex\", \"is\"], [\"Q\", \":\", \"\\n\", \"\\n\", \"Mouse\", \"Motion\", \"Listener\", \" is\", \" not\", \" working\", \" with\", \" Can\", \"vas\", \"\\n\", \"\\n\", \"This\", \" is\", \" my\", \" code\", \" so\", \" far\", \",\", \" what\", \" I\", \" want\", \" to\", \" do\", \" is\", \" to\", \" \"], [\"Background\", \"\\n\", \"\\n\", \"I\", \" began\", \" to\", \" learn\", \" to\", \" program\", \" in\", \" my\", \" 6\", \"th\", \"-\", \"grade\", \" year\", \" of\", \" elementary\", \" school\", \".\", \" I\", \"\\u2019\", \"m\", \" currently\", \" in\", \" \"], [\"1\", \".\", \" Field\", \" of\", \" the\", \" Invention\", \"\\n\", \"The\", \" present\", \" invention\", \" related\", \" to\", \" a\", \" wiring\", \" board\", \" with\", \" built\", \"-\", \"in\", \" capacitors\", \".\", \" \"], [\"Search\", \" teams\", \" sc\", \"our\", \" 21\", \"-\", \"mile\", \" area\", \" along\", \" the\", \" Big\", \" Thompson\", \" River\", \" in\", \" Lo\", \"vel\", \"and\", \"\\n\", \"\\n\", \"9\", \"/\", \"18\", \" 4\", \" pm\", \" --\", \" Search\", \" crews\", \" \"], [\"Q\", \":\", \"\\n\", \"\\n\", \"A\", \" GUI\", \"-\", \"Less\", \" Browser\", \" to\", \" scrape\", \" with\", \"\\n\", \"\\n\", \"I\", \"'m\", \" writing\", \" a\", \" tool\", \" to\", \" get\", \" info\", \" from\", \" several\", \" websites\", \",\", \" all\", \" req\"], [\"58\", \" F\", \".\", \"3\", \"d\", \" 12\", \"66\", \"\\n\", \"P\", \"ens\", \".\", \" Plan\", \" Guide\", \" P\", \" 239\", \"13\", \"T\", \"INTER\", \"N\", \"ATIONAL\", \" ASS\", \"OC\", \"I\", \"ATION\", \" OF\", \" E\", \"NT\", \"RE\", \"PR\", \"ENE\", \"UR\", \"S\", \" OF\", \" AMERICA\", \";\", \"Intern\", \"at\"], [\"Power\", \" over\", \" Ethernet\", \" systems\", \" are\", \" seeing\", \" increasing\", \" use\", \" in\", \" today\", \"'s\", \" society\", \".\", \" Power\", \" over\", \" Ethernet\", \",\", \" somet\"], [\"---\", \"\\n\", \"author\", \":\", \"\\n\", \"-\", \" '\", \"M\", \".\", \" C\", \".\", \" Wy\", \"att\", \"'\", \"\\n\", \"date\", \":\", \" '\", \"Submitted\", \" 27\", \" September\", \" 2004\", \",\", \" Accept\", \"ed\", \" 13\", \" December\", \" 2004\", \"'\", \"\\n\", \"title\", \":\", \" '\", \"T\"], [\"Launch\", \" of\", \" Max\", \"xia\", \" &\", \" Rem\", \"serv\", \" Claims\", \"\\n\", \"\\n\", \"The\", \" launch\", \" of\", \" the\", \" desktop\", \" and\", \" smartphone\", \" claiming\", \" platforms\", \" made\", \" \"], [\"Event\", \" News\", \"\\n\", \"\\n\", \"H\", \"OP\", \"PY\", \" E\", \"AST\", \"ER\", \"!\", \"\\n\", \"\\n\", \"The\", \" flowers\", \" are\", \" in\", \" bloom\", \" and\", \" spring\", \" fever\", \" is\", \" here\", \".\", \" This\", \" Monday\", \",\", \" April\", \" 17\", \" \"], [\"Q\", \":\", \"\\n\", \"\\n\", \"java\", \"-\", \" how\", \" to\", \" logically\", \" process\", \" n\", \"-\", \"levels\", \" of\", \" for\", \" loops\", \" where\", \" n\", \" is\", \" a\", \" variable\", \"\\n\", \"\\n\", \"In\", \" a\", \" java\", \" program\", \",\", \" I\"], [\"\\u201c\", \"It\", \" is\", \" an\", \" outrage\", \" that\", \" they\", \" should\", \" be\", \" commonly\", \" spoken\", \" of\", \" as\", \" Intel\", \"lectual\", \"s\", \".\", \" This\", \" gives\", \" them\", \" the\", \" ch\", \"anc\"], [\"Ex\", \"ercise\", \" capacity\", \" after\", \" lob\", \"ectomy\", \" in\", \" patients\", \" with\", \" chronic\", \" obstructive\", \" pulmonary\", \" disease\", \".\", \"\\n\", \"The\", \" aim\", \" of\"], [\"G\", \"ord\", \"han\", \" asks\", \" for\", \" fresh\", \" thinking\", \"\\n\", \"\\n\", \"Business\", \" News\", \" /\", \" 9\", \" July\", \" 2012\", \",\", \" 4\", \":\", \"48\", \"pm\", \"\\n\", \"\\n\", \"S\", \"AP\", \"A\", \"\\n\", \"\\n\", \"C\", \"ape\", \" Town\", \" 14\", \"101\", \"0\", \"\\n\", \"Fin\", \"ance\"], [\"08\", \"-\", \"15\", \"25\", \"-\", \"ag\", \"\\n\", \"Lin\", \" v\", \".\", \" Holder\", \"\\n\\n\", \"                \", \"UNITED\", \" STATES\", \" COURT\", \" OF\", \" APPEALS\", \"\\n\", \"                    \", \"FOR\", \" THE\"], [\"Who\", \" owns\", \" the\", \" poem\", \" and\", \" knows\", \" what\", \" it\", \" means\", \" \\u2014\", \"\\n\", \"Who\", \" writes\", \" the\", \" questions\", \" on\", \" the\", \" test\", \" \\u2014\", \"\\n\", \"Who\", \" chooses\", \" what\", \" \"], [\"E\", \"ff\", \"ingham\", \",\", \" Illinois\", \"\\n\", \"\\n\", \"E\", \"ff\", \"ingham\", \" is\", \" a\", \" city\", \" in\", \" and\", \" the\", \" county\", \" seat\", \" of\", \" Eff\", \"ingham\", \" County\", \",\", \" Illinois\", \",\", \" Un\", \"ite\"], [\"Q\", \":\", \"\\n\", \"\\n\", \"How\", \" to\", \" Comp\", \"ile\", \" and\", \" Debug\", \" C\", \"++\", \" in\", \" Not\", \"ep\", \"ad\", \"++\", \" using\", \" Tur\", \"bo\", \" C\", \"++\", \" Comp\", \"iler\", \"\\n\", \"\\n\", \"I\", \" have\", \" installed\", \" N\", \"pp\", \"Execute\", \" \"], [\"Post\", \"pr\", \"and\", \"ial\", \" sph\", \"inct\", \"er\", \" of\", \" Odd\", \"i\", \" my\", \"oelectric\", \" activity\", \" and\", \" gall\", \"bl\", \"adder\", \" empt\", \"ying\", \".\", \"\\n\", \"Fe\", \"eding\", \" initi\", \"ates\", \" gall\"], [\"Ch\", \"ile\", \"'s\", \" Senate\", \" votes\", \" to\", \" impe\", \"ach\", \" education\", \" minister\", \" for\", \" professional\", \" misconduct\", \"\\n\", \"\\n\", \"S\", \"ANT\", \"I\", \"AG\", \"O\", \",\", \" Chile\", \" \\u2013\", \" Ch\"], [\"<!\", \"DOCTYPE\", \" html\", \" PUBLIC\", \" \\\"-\", \"//\", \"W\", \"3\", \"C\", \"//\", \"DTD\", \" X\", \"HTML\", \" 1\", \".\", \"0\", \" Trans\", \"itional\", \"//\", \"EN\", \"\\\"\", \" \\\"\", \"https\", \"://\", \"www\", \".\", \"w\", \"3\", \".\", \"org\", \"/\", \"TR\", \"/\", \"xhtml\", \"1\", \"/\", \"DTD\", \"/\", \"x\", \"ht\"], [\"[\", \"Pred\", \"ict\", \"ing\", \" the\", \" risk\", \" of\", \" recurrence\", \" of\", \" du\", \"odenal\", \" ulcer\", \" after\", \" vag\", \"otomy\", \"].\", \"\\n\", \"The\", \" author\", \" suggests\", \" a\", \" multif\", \"ac\"], [\"Clinical\", \" Issues\", \"-\", \"February\", \" 2017\", \".\", \"\\n\", \"Im\", \"plement\", \"ing\", \" surgical\", \" smoke\", \" evacuation\", \" practices\", \" Key\", \" words\", \":\", \" surgical\", \" \"], [\"Q\", \":\", \"\\n\", \"\\n\", \"Date\", \" convert\", \" in\", \" Java\", \"\\n\", \"\\n\", \"I\", \" want\", \" to\", \" compare\", \" two\", \" dates\", \",\", \" for\", \" that\", \" i\", \" convert\", \" the\", \" string\", \" to\", \" date\", \" format\", \".\"], [\"535\", \" F\", \".\", \"2\", \"d\", \" 12\", \"42\", \"\\n\", \"Red\", \"eri\", \" A\", \"/\", \"B\", \" Saturn\", \"as\", \"\\n\", \"No\", \".\", \" 75\", \"-\", \"73\", \"64\", \"\\n\", \"United\", \" States\", \" Court\", \" of\", \" Appeals\", \",\", \" Second\", \" Circuit\", \"\\n\", \"3\", \"/\", \"15\", \"/\", \"76\"], [\"MIN\", \"UTE\", \" OF\", \" M\", \"OUR\", \"N\", \" FOR\", \" A\", \"YL\", \"AN\", \" K\", \"UR\", \"DI\", \" AND\", \" O\", \"TH\", \"ERS\", \"\\n\", \"\\n\", \"DI\", \" Media\", \" Commit\", \"te\", \"em\", \"edia\", \"@\", \"def\", \"end\", \"international\", \".\", \"org\", \"\\n\", \"\\n\", \"People\", \" \"], [\"Mon\", \"itors\", \" &\", \" Tele\", \"prom\", \"p\", \"ters\", \"\\n\", \"\\n\", \"If\", \" you\", \" are\", \" working\", \" in\", \" a\", \" studio\", \" environment\", \",\", \" then\", \" you\", \" will\", \" come\", \" up\", \" against\", \" \"], [\"\\u2018\", \"Av\", \"atar\", \"\\u2019\", \" The\", \"ft\", \" Plaintiff\", \" L\", \"oses\", \" B\", \"id\", \" To\", \" Dis\", \"qual\", \"ify\", \" Judge\", \"\\n\", \"\\n\", \"That\", \"\\u2019\", \"s\", \" the\", \" second\", \" Av\", \"atar\", \"legal\", \" loss\", \" in\", \" a\", \" row\", \" \"], [\"Di\", \"ocese\", \" in\", \" the\", \" Province\", \" of\", \" Av\", \"ell\", \"ino\", \",\", \" Southern\", \" Italy\", \".\", \" The\", \" city\", \" was\", \" established\", \" by\", \" the\", \" Lomb\", \"ards\", \" at\", \" an\", \" \"], [\"508\", \" F\", \".\", \"2\", \"d\", \" 6\", \"73\", \"\\n\", \"In\", \" the\", \" Matter\", \" of\", \" COM\", \"PUT\", \"ER\", \" UT\", \"IL\", \"IZ\", \"ATION\", \",\", \" INC\", \".,\", \" Bank\", \"rupt\", \".\", \"John\", \" A\", \".\", \" P\", \"ACE\", \",\", \" Appellant\", \",\", \"v\", \".\", \"COM\", \"PUT\", \"E\"], [\"137\", \" F\", \".\", \"3\", \"d\", \" 14\", \"20\", \"\\n\", \"98\", \" Cal\", \".\", \" Daily\", \" Op\", \".\", \" Serv\", \".\", \" 17\", \"04\", \",\", \" 98\", \" Daily\", \" Journal\", \"D\", \".\", \"A\", \".\", \"R\", \".\", \" 239\", \"3\", \"Arthur\", \" CAL\", \"DER\", \"ON\", \",\", \" W\", \"arden\", \",\", \" of\", \" t\"], [\"Auto\", \" binary\", \" options\", \" secrets\", \" earn\", \" money\", \" every\", \" 60\", \" seconds\", \" to\", \" mars\", \"\\n\", \"\\n\", \"The\", \" colonization\", \" of\", \" the\", \" Moon\", \" is\", \" a\", \" p\"], [\"Gen\", \"omics\", \" and\", \" particularly\", \" mut\", \"ational\", \" profiling\", \" have\", \" deep\", \"ened\", \" our\", \" understanding\", \" of\", \" cancer\", \" pathology\", \" a\"], [\"Q\", \":\", \"\\n\", \"\\n\", \"S\", \"orting\", \" Health\", \"Kit\", \" data\", \" by\", \" date\", \"\\n\", \"\\n\", \"I\", \"'m\", \" trying\", \" to\", \" get\", \" pulse\", \" data\", \" from\", \" Health\", \"Kit\", \" and\", \" sort\", \" them\", \" by\", \" dat\"], [\"ES\", \"D\", \" Pos\", \"id\", \"riv\", \" Scre\", \"wd\", \"rivers\", \" Qu\", \"ot\", \"ation\", \"\\n\", \"\\n\", \"Thank\", \" you\", \" for\", \" your\", \" interest\", \" on\", \" Hyper\", \"Cl\", \"aw\", \" E\", \"SD\", \" Pos\", \"id\", \"riv\", \" Scre\", \"wd\", \"riv\"], [\"[\", \"A\", \" case\", \" of\", \" pa\", \"uc\", \"ib\", \"ac\", \"illary\", \" le\", \"pro\", \"sy\", \"].\", \"\\n\", \"We\", \" report\", \" a\", \" case\", \" of\", \" le\", \"pro\", \"sy\", \".\", \" A\", \" 31\", \"-\", \"old\", \"-\", \"ph\", \"illi\", \"pp\", \"ine\", \" female\", \" present\"], [\"#\", \" frozen\", \"_\", \"string\", \"_\", \"literal\", \":\", \" true\", \"\\n\", \"\\n\", \"require\", \" '\", \"spec\", \"_\", \"helper\", \"'\", \"\\n\", \"\\n\", \"describe\", \" '\", \"R\", \"ake\", \" task\", \" buttons\", \"',\", \" type\", \":\", \" :\", \"feature\", \" d\"], [\"Don\", \"\\u2019\", \"t\", \" ask\", \" us\", \" why\", \" he\", \" did\", \" it\", \",\", \" but\", \" Ye\", \" successfully\", \" managed\", \" to\", \" tow\", \" the\", \" 7\", \" Aud\", \"is\", \" along\", \",\", \" which\", \" weighed\", \" a\", \" he\"], [\"C\", \"ARR\", \"O\", \"LL\", \" COUNTY\", \",\", \" IN\", \" (\", \"W\", \"X\", \"IN\", \"/\", \"CNN\", \")\", \" \\u2013\", \" An\", \" Indiana\", \" couple\", \" was\", \" arrested\", \" after\", \" police\", \" found\", \" them\", \" un\", \"responsive\", \",\"], [\"P\", \"ete\", \" Wilcox\", \"\\n\", \"\\n\", \"Peter\", \" Jonathan\", \" Wilcox\", \" (\", \"born\", \" 1961\", \")\", \" is\", \" a\", \" British\", \" Anglican\", \" bishop\", \".\", \" Since\", \" June\", \" 2017\", \",\", \" he\", \" has\"], [\"Saturday\", \",\", \" August\", \" 14\", \",\", \" 2010\", \"\\n\", \"\\n\", \"The\", \" Final\", \" Push\", \" for\", \" World\", \" Government\", \"\\n\", \"\\n\", \"Histor\", \"ical\", \" Account\", \" of\", \" the\", \" Fast\", \" Track\"], [\"K\", \"rist\", \"en\", \" Stewart\", \" on\", \" the\", \" People\", \" Who\", \" Crit\", \"ique\", \" Her\", \" Red\", \" Car\", \"pet\", \" P\", \"oses\", \":\", \" \\u201c\", \"I\", \" Don\", \"\\u2019\", \"t\", \" Care\", \" About\", \" the\", \" Vor\", \"acious\", \",\", \" \"], [\"M\", \"ario\", \" B\", \"ades\", \"cu\", \":\", \" Get\", \" Free\", \" 3\", \" Compl\", \"iment\", \"ary\", \" Samples\", \" with\", \" Every\", \" Order\", \" Plus\", \" Free\", \" Shipping\", \" on\", \" Orders\", \" Over\", \" $\"], [\"Q\", \":\", \"\\n\", \"\\n\", \"after\", \"_\", \"sign\", \"_\", \"in\", \"_\", \"path\", \"_\", \"for\", \"\\n\", \"\\n\", \"I\", \" use\", \" devise\", \" in\", \" my\", \" application\", \".\", \"\\n\", \"I\", \" want\", \" to\", \" pop\", \"-\", \"up\", \" a\", \" welcome\", \" message\", \" while\"], [\"A\", \" phase\", \" II\", \" study\", \" of\", \" personalized\", \" peptide\", \" vaccination\", \" combined\", \" with\", \" gem\", \"cit\", \"abine\", \" for\", \" non\", \"-\", \"re\", \"sect\", \"able\", \" pa\"], [\"[\", \"R\", \"eno\", \"enter\", \"oc\", \"olic\", \" fistula\", \"].\", \"\\n\", \"We\", \" present\", \" a\", \" case\", \" of\", \" re\", \"no\", \"-\", \"ent\", \"ero\", \"-\", \"col\", \"ic\", \" fistula\", \" which\", \" is\", \" extremely\", \" rare\", \" an\"], [\"David\", \" Richard\", \"/\", \"Associ\", \"ated\", \" Press\", \"\\n\", \"\\n\", \"C\", \"leveland\", \" Browns\", \" wide\", \" receiver\", \" Josh\", \" Gordon\", \" said\", \" \\\"\", \"he\", \"'s\", \" had\", \" something\", \" \"], [\"As\", \" you\", \" know\", \",\", \" Valentine\", \"'s\", \" Day\", \" is\", \" coming\", \" soon\", \",\", \" so\", \" get\", \" prepare\", \" on\", \" the\", \" time\", \" :-)\", \" I\", \" show\", \" you\", \" some\", \" gift\", \" ide\"], [\"Q\", \":\", \"\\n\", \"\\n\", \"Joint\", \" Prob\", \"ability\", \" distribution\", \" for\", \" $\", \"Z\", \"=\", \"X\", \"/(\", \"X\", \"+\", \"Y\", \")$\", \"\\n\", \"\\n\", \"Suppose\", \" X\", \" and\", \" Y\", \" are\", \" two\", \" independent\", \" random\", \" var\", \"ia\"], [\"<?\", \"php\", \"\\n\", \"\\n\", \"//\", \" aut\", \"ol\", \"oad\", \"_\", \"files\", \".\", \"php\", \" @\", \"generated\", \" by\", \" Com\", \"poser\", \"\\n\", \"\\n\", \"$\", \"vendor\", \"Dir\", \" =\", \" dir\", \"name\", \"(\", \"dirname\", \"(__\", \"FILE\", \"__\", \"));\", \"\\n\", \"$\", \"base\", \"D\"], [\"Q\", \":\", \"\\n\", \"\\n\", \"Visual\", \" C\", \"++\", \" values\", \" differ\", \" while\", \" printing\", \" and\", \" debugging\", \"?\", \"\\n\", \"\\n\", \"I\", \" am\", \" checking\", \" a\", \" piece\", \" of\", \" code\", \".\", \" Every\", \"thin\"], [\"J\", \"ude\", \" 20\", \"\\u2013\", \"22\", \"\\n\", \"\\n\", \"Embed\", \" This\", \" Ver\", \"se\", \"\\n\", \"\\n\", \"20\", \" But\", \" you\", \",\", \" beloved\", \",\", \" x\", \"building\", \" yourselves\", \" up\", \" on\", \" your\", \" most\", \" holy\", \" faith\", \",\", \" \"], [\"/*\", \"\\n\", \"Copyright\", \" (\", \"c\", \")\", \" 2011\", \",\", \" Daniel\", \" Gu\", \"erre\", \"ro\", \"\\n\", \"All\", \" rights\", \" reserved\", \".\", \"\\n\", \"\\n\", \"Red\", \"ist\", \"ribution\", \" and\", \" use\", \" in\", \" source\", \" and\", \" bi\"], [\"\\n\", \"\\n\", \"Is\", \" there\", \" a\", \" Product\", \"H\", \"unt\", \" without\", \" the\", \" \\u201c\", \"selection\", \" process\", \"\\u201d?\", \" -\", \" hood\", \"oof\", \"\\n\", \"\\n\", \"i\", \".\", \"e\", \".\", \" a\", \" site\", \" that\", \" actually\", \" shows\"], [\"Sw\", \"imming\", \" at\", \" the\", \" 2007\", \" World\", \" Aqu\", \"atics\", \" Championships\", \" \\u2013\", \" Men\", \"'s\", \" 50\", \" met\", \"re\", \" back\", \"stroke\", \"\\n\", \"\\n\", \"The\", \" men\", \"'s\", \" 50\", \" met\", \"re\", \" ba\"], [\"Q\", \":\", \"\\n\", \"\\n\", \"B\", \"old\", \" Font\", \" in\", \" Linux\", \"\\n\", \"\\n\", \"Re\", \"-\", \"Edit\", \" of\", \" the\", \" question\", \" for\", \" clarification\", \":\", \" Bl\", \"ender\", \" only\", \" has\", \" one\", \" font\", \" and\", \" it\", \" \"], [\"Find\", \" IT\", \" C\", \"andidates\", \"\\u2019\", \" Pro\", \"files\", \"\\n\", \"\\n\", \"Just\", \" like\", \" Google\", \",\", \" Book\", \"ing\", \" or\", \" Sk\", \"ys\", \"c\", \"anner\", \",\", \" Amazing\", \"H\", \"iring\", \" is\", \" an\", \" aggreg\", \"ato\"], [\"Ben\", \"ign\", \" essential\", \" ble\", \"ph\", \"ar\", \"osp\", \"asm\", \" (\", \"BE\", \"B\", \")\", \" and\", \" sp\", \"asmod\", \"ic\", \" tort\", \"ic\", \"oll\", \"is\", \" (\", \"ST\", \")\", \" are\", \" progressive\", \" forms\", \" of\", \" focal\", \" d\"], [\"Q\", \"o\", \"hest\", \"an\", \" Rural\", \" District\", \"\\n\", \"\\n\", \"Q\", \"o\", \"hest\", \"an\", \" Rural\", \" District\", \" ()\", \" is\", \" a\", \" rural\", \" district\", \" (\", \"de\", \"hest\", \"an\", \")\", \" in\", \" Q\", \"o\", \"hest\", \"an\", \" Dist\", \"r\"], [\"Port\", \"as\", \"ystem\", \"ic\", \" sh\", \"unt\", \" fraction\", \" quantification\", \" using\", \" trans\", \"rect\", \"al\", \" administration\", \" of\", \" iodine\", \"-\", \"123\", \" i\", \"odo\", \"amp\", \"he\"], [\"Gen\", \"etic\", \" and\", \" clinical\", \" features\", \" of\", \" p\", \"450\", \" oxid\", \"ore\", \"duct\", \"ase\", \" deficiency\", \".\", \"\\n\", \"P\", \"450\", \" oxid\", \"ore\", \"duct\", \"ase\", \" (\", \"POR\", \")\", \" defic\", \"ien\", \"c\"], [\"This\", \" invention\", \" relates\", \" to\", \" a\", \" drum\", \" type\", \" washing\", \" machine\", \" including\", \" a\", \" rotating\", \" tub\", \" inclined\", \" rear\", \"ward\", \"ly\", \" d\"], [\"1\", \".\", \" Field\", \" of\", \" the\", \" Invention\", \"\\n\", \"The\", \" present\", \" invention\", \" relates\", \" generally\", \" to\", \" wireless\", \" communication\", \" systems\", \",\"], [\"September\", \" 18\", \"/\", \"07\", \" 12\", \":\", \"07\", \" pm\", \" -\", \" BC\", \" Sen\", \"iors\", \" Games\", \"\\n\", \"\\n\", \"Posted\", \" by\", \" Ed\", \"ito\", \"ress\", \" on\", \" 09\", \"/\", \"18\", \"/\", \"07\", \"\\n\", \"\\n\", \"British\", \" Columbia\", \" Sen\", \"io\"], [\"%\", \"verify\", \" \\\"\", \"exec\", \"uted\", \"\\\"\", \"\\n\", \"%\", \"include\", \" \\\"\", \"arm\", \"-\", \"v\", \"fp\", \"/\", \"fun\", \"op\", \".\", \"S\", \"\\\"\", \" {\\\"\", \"instr\", \"\\\":\\\"\", \"ft\", \"os\", \"iz\", \"s\", \" s\", \"1\", \",\", \" s\", \"0\", \"\\\"}\", \"\\n\"], [\"Q\", \":\", \" What\", \" Op\", \"ry\", \" member\", \" was\", \" recognized\", \" for\", \" his\", \" humanitarian\", \" efforts\", \" with\", \" the\", \" 1993\", \" Minn\", \"ie\", \" Pearl\", \" and\", \" Harm\", \"o\"], [\"This\", \" is\", \" one\", \" of\", \" those\", \" \\u201c\", \"more\", \" bang\", \" for\", \" your\", \" buck\", \"\\u201d\", \" meetings\", \".\", \" At\", \" the\", \" September\", \" 17\", \" meeting\", \" we\", \" will\", \" have\", \" tw\"], [\"Q\", \":\", \"\\n\", \"\\n\", \"F\", \"requent\", \" blow\", \" outs\", \" in\", \" the\", \" same\", \" location\", \"\\n\", \"\\n\", \"I\", \" keep\", \" getting\", \" blow\", \" outs\", \" in\", \" my\", \" front\", \" tube\", \" and\", \" always\", \" in\"], [\"K\", \"ase\", \"ya\", \" V\", \"SA\", \" R\", \"9\", \".\", \"1\", \" Auth\", \"An\", \"vil\", \" Module\", \" -\", \" Release\", \" Notes\", \"\\n\", \"\\n\", \"With\", \" the\", \" release\", \" of\", \" K\", \"ase\", \"ya\", \" V\", \"SA\", \" R\", \"9\", \".\", \"1\", \" new\", \" cap\", \"abil\", \"iti\"], [\"//\", \" This\", \" file\", \" is\", \" part\", \" of\", \" Eigen\", \",\", \" a\", \" lightweight\", \" C\", \"++\", \" template\", \" library\", \"\\n\", \"//\", \" for\", \" linear\", \" algebra\", \".\", \"\\n\", \"//\", \"\\n\", \"//\", \" Copy\", \"r\"], [\"Q\", \":\", \"\\n\", \"\\n\", \"gra\", \"ils\", \" 3\", \".\", \"0\", \".\", \"0\", \" I\", \" can\", \" not\", \" create\", \" an\", \" application\", \"\\n\", \"\\n\", \"I\", \" just\", \" downloaded\", \" Gra\", \"ils\", \" 3\", \".\", \"0\", \".\", \"0\", \"  \", \"(\", \"hop\", \"ing\", \" to\", \" see\", \" my\", \" \"], [\"FL\", \"o\", \"C\", \" 2002\", \" Call\", \" for\", \" Particip\", \"ation\", \"\\n\", \"\\n\", \"The\", \" 2002\", \" Fed\", \"erated\", \" Logic\", \" Conference\", \"\\n\", \"C\", \"openhagen\", \",\", \" Denmark\", \",\", \" July\", \" 20\", \" -\"], [\"//\", \" Code\", \" generated\", \" by\", \" running\", \" \\\"\", \"go\", \" generate\", \"\\\"\", \" in\", \" gol\", \"ang\", \".\", \"org\", \"/\", \"x\", \"/\", \"text\", \".\", \" DO\", \" NOT\", \" EDIT\", \".\", \"\\n\", \"\\n\", \"//\", \" Copyright\", \" 2016\", \" The\"], [\"Un\", \"employment\", \" Falls\", \" to\", \" 9\", \".\", \"0\", \" P\", \"ct\", \".\", \"\\n\", \"\\n\", \"The\", \" unemployment\", \" rate\", \" dropped\", \" sharply\", \" last\", \" month\", \" to\", \" 9\", \" percent\", \",\", \" based\"], [\"\\n\", \"20\", \" Kan\", \".\", \" App\", \".\", \" 2\", \"d\", \" 361\", \" (\", \"1995\", \")\", \"\\n\", \"ERR\", \"OL\", \" JO\", \"E\", \" K\", \"AM\", \"PS\", \"CH\", \"RO\", \"ED\", \"ER\", \",\", \" Appellee\", \",\", \"\\n\", \"v\", \".\", \"\\n\", \"NOR\", \"MA\", \" W\", \".\", \" K\", \"AM\", \"PS\", \"CH\", \"RO\", \"ED\", \"ER\", \" and\", \" SH\", \"ERR\", \"YL\"], [\"St\", \"ocks\", \" dipped\", \" on\", \" Wall\", \" Street\", \" on\", \" Monday\", \" as\", \" a\", \" drop\", \" in\", \" Apple\", \" partly\", \" offset\", \" gains\", \" in\", \" energy\", \" and\", \" financ\", \"ia\"], [\"---\", \"\\n\", \"id\", \":\", \" i\", \"18\", \"n\", \"\\n\", \"title\", \":\", \" International\", \"ization\", \"\\n\", \"---\", \"\\n\", \"\\n\", \"##\", \" Add\", \" a\", \" language\", \"\\n\", \"\\n\", \"###\", \" Edit\", \" your\", \" bot\", \" config\", \"s\", \"\\n\", \"\\n\", \"In\", \" the\", \" A\"], [\"Q\", \":\", \"\\n\", \"\\n\", \"Res\", \"h\", \"aping\", \" a\", \" tensor\", \" with\", \" more\", \" than\", \" one\", \" u\", \"known\", \" di\", \"em\", \"ns\", \"ions\", \"\\n\", \"\\n\", \"I\", \" need\", \" to\", \" be\", \" able\", \" to\", \" resh\", \"ape\", \" a\", \" tensor\", \" o\"], [\"Do\", \" you\", \" support\", \" a\", \" path\", \" to\", \" citizenship\", \" for\", \" Dream\", \"ers\", \"?\", \"\\n\", \"\\n\", \"Story\", \" TO\", \"p\", \"ics\", \"\\n\", \"\\n\", \"On\", \" Tuesday\", \",\", \" President\", \" Obama\", \" sent\", \" a\"], [\"AML\", \" &\", \" Identity\", \" Ver\", \"ification\", \" Policy\", \"\\n\", \"\\n\", \"This\", \" Anti\", \"-\", \"Money\", \" La\", \"undering\", \" ('\", \"AML\", \"')\", \" Policy\", \" and\", \" Identity\", \" Ver\", \"ific\", \"at\"], [\"I\", \"an\", \" Watson\", \" (\", \"author\", \")\", \"\\n\", \"\\n\", \"I\", \"an\", \" Watson\", \" (\", \"born\", \" 20\", \" April\", \" 1943\", \")\", \" is\", \" a\", \" British\", \" science\", \" fiction\", \" writer\", \".\", \" He\", \" lives\", \" i\"], [\"\\n\", \"\\n\", \"D\", \"ress\", \" to\", \" Profess\", \":\", \" What\", \" Should\", \" Scientists\", \" W\", \"ear\", \"?\", \" -\", \" ja\", \"wn\", \"s\", \"\\n\", \"http\", \"://\", \"science\", \"care\", \"ers\", \".\", \"science\", \"mag\", \".\", \"org\", \"/\", \"care\", \"er\"], [\"/*\", \"\\n\", \" *\", \" Q\", \"EM\", \"U\", \" Common\", \" PCI\", \" Host\", \" bridge\", \" configuration\", \" data\", \" space\", \" access\", \" routines\", \".\", \"\\n\", \" *\", \"\\n\", \" *\", \" Copyright\", \" (\", \"c\", \")\", \" 2006\"], [\"The\", \" Music\", \" of\", \" the\", \" MRI\", \"\\n\", \"\\n\", \"\\u201c\", \"Take\", \" a\", \" picture\", \",\", \" what\", \"\\u2019\", \"s\", \" inside\", \"?\", \"\\n\", \"G\", \"host\", \" image\", \" in\", \" my\", \" mind\", \"\\n\", \"Natural\", \" pattern\", \" like\", \" a\", \" \"], [\"A\", \" program\", \" in\", \" Quick\", \"basic\", \" for\", \" the\", \" estimation\", \" of\", \" cardiac\", \" output\", \".\", \"\\n\", \"The\", \" current\", \" program\", \" in\", \" Quick\", \"basic\", \" prov\"], [\"Background\", \" {#\", \"Sec\", \"1\", \"}\", \"\\n\", \"==========\", \"\\n\", \"\\n\", \"U\", \"ter\", \"ine\", \" artery\", \" embol\", \"ization\", \" (\", \"U\", \"AE\", \")\", \" for\", \" the\", \" treatment\", \" of\", \" uterine\", \" fib\", \"ro\", \"i\"], [\"D\", \"yn\", \"asty\", \" Warriors\", \" 9\", \" will\", \" launch\", \" for\", \" PlayStation\", \" 4\", \" on\", \" February\", \" 8\", \" in\", \" Japan\", \",\", \" K\", \"oe\", \"i\", \" T\", \"ec\", \"mo\", \" announced\", \".\", \" The\", \" r\"], [\"//\", \" Load\", \" modules\", \"\\r\\n\\r\", \"\\n\", \"var\", \" U\", \"rl\", \" =\", \" require\", \"('\", \"url\", \"');\", \"\\r\", \"\\n\", \"var\", \" Code\", \" =\", \" require\", \"('\", \"code\", \"');\", \"\\r\", \"\\n\", \"var\", \" Hawk\", \" =\", \" require\", \"('\", \"../\", \"li\"], [\"C\", \"J\", \"2\", \" Series\", \" C\", \"yl\", \"ind\", \"ers\", \"\\n\", \"\\n\", \"The\", \" C\", \"J\", \"2\", \" series\", \" from\", \" SMC\", \" are\", \" miniature\", \" cylinders\", \".\", \" Available\", \" in\", \" spring\", \" extend\", \",\", \" s\"], [\"Red\", \"uct\", \"ive\", \" de\", \"chlor\", \"ination\", \" of\", \" B\", \"Cl\", \"3\", \" for\", \" efficient\", \" ammonia\", \" bor\", \"ane\", \" regeneration\", \".\", \"\\n\", \"This\", \" paper\", \" reports\", \" a\", \" com\"], [\"Auth\", \"ored\", \" by\", \" Gregory\", \" Clark\", \" via\", \" The\", \" Strategic\", \" Culture\", \" Foundation\", \",\", \"\\n\", \"\\n\", \"The\", \" U\", \".\", \"S\", \".\", \" spy\", \" community\", \" -\", \" those\", \" nice\"], [\"Develop\", \"ing\", \" skills\", \" in\", \" clinical\", \" leadership\", \" for\", \" ward\", \" sisters\", \".\", \"\\n\", \"The\", \" Francis\", \" report\", \" has\", \" called\", \" for\", \" a\", \" st\", \"ren\"], [\"Download\", \" P\", \"fl\", \"an\", \"zen\", \"reich\", \" Pf\", \"itzer\", \" Or\", \"chid\", \"aceae\", \" Mon\", \"andra\", \"e\", \"\\n\", \"\\n\", \"Map\", \" Chapter\", \" Two\", \" B\", \"OR\", \"ON\", \" CL\", \"UST\", \"ER\", \" COMP\", \"OUN\", \"DS\", \".\", \" Ch\", \"apt\"], [\"Q\", \":\", \"\\n\", \"\\n\", \"MS\", \" Access\", \" Limit\", \"\\n\", \"\\n\", \"What\", \"'s\", \" the\", \" equivalent\", \" of\", \" mysql\", \" Limit\", \" in\", \" ms\", \" access\", \".\", \" TOP\", \" is\", \" not\", \" sufficient\", \" since\", \" \"]], \"activations\": [[[[1615329398152580384792556137876973551303491617279688310784]], [[20]], [[25]], [[26]], [[28]], [[33]], [[21]], [[47]], [[34]], [[26]], [[39]], [[21]], [[21]], [[40]], [[25]], [[32]], [[35]], [[26]], [[20]], [[21]], [[18]], [[38]]], [[[1615329398152580384792556137876973551303491617279688310784]], [[23]], [[19]], [[22]], [[32]], [[30]], [[24]], [[23]], [[26]], [[31]], [[24]], [[26]], [[38]], [[37]], [[22]], [[19]], [[22]], [[19]], [[20]], [[19]], [[25]], [[18]], [[28]]], [[[1615329398152580384792556137876973551303491617279688310784]], [[24]], [[20]], [[21]], [[28]], [[29]], [[30]], [[21]], [[26]], [[22]], [[20]], [[31]], [[21]], [[24]], [[19]], [[26]], [[20]], [[19]], [[33]], [[21]], [[24]], [[25]]], [[[1615329398152580384792556137876973551303491617279688310784]], [[26]], [[22]], [[26]], [[23]], [[24]], [[22]], [[25]], [[21]], [[23]], [[32]], [[35]], [[35]], [[21]], [[30]], [[35]], [[21]], [[25]], [[29]], [[35]], [[36]], [[36]], [[35]], [[29]], [[34]], [[32]], [[25]]], [[[1615329398152580384792556137876973551303491617279688310784]], [[7]], [[25]], [[20]], [[16]], [[25]], [[21]], [[21]], [[21]], [[31]], [[31]], [[21]], [[22]], [[34]], [[23]], [[19]], [[22]], [[22]], [[22]], [[22]], [[21]], [[22]], [[18]], [[19]], [[25]], [[21]], [[32]], [[30]], [[27]]], [[[1615329398152580384792556137876973551303491617279688310784]], [[24]], [[18]], [[24]], [[29]], [[26]], [[26]], [[27]], [[35]], [[44]], [[31]], [[36]], [[21]], [[22]], [[22]], [[32]], [[34]], [[20]], [[38]], [[23]], [[33]], [[22]], [[28]]], [[[1615329398152580384792556137876973551303491617279688310784]], [[7]], [[25]], [[20]], [[16]], [[21]], [[18]], [[20]], [[35]], [[36]], [[28]], [[34]], [[26]], [[23]], [[23]], [[20]], [[31]], [[35]], [[33]], [[28]], [[36]], [[28]], [[32]], [[38]], [[38]], [[32]], [[35]], [[32]], [[34]], [[42]], [[26]]], [[[1615329398152580384792556137876973551303491617279688310784]], [[23]], [[20]], [[18]], [[28]], [[28]], [[39]], [[25]], [[36]], [[23]], [[35]], [[31]], [[23]], [[29]], [[26]], [[22]], [[25]], [[38]], [[22]], [[24]], [[18]], [[34]], [[29]], [[32]], [[30]], [[37]], [[24]]], [[[1615329398152580384792556137876973551303491617279688310784]], [[23]], [[19]], [[22]], [[32]], [[30]], [[24]], [[23]], [[26]], [[31]], [[24]], [[26]], [[38]], [[39]], [[19]], [[20]], [[46]], [[24]], [[27]], [[30]], [[19]], [[20]], [[25]]], [[[1615329398152580384792556137876973551303491617279688310784]], [[20]], [[20]], [[20]], [[24]], [[19]], [[25]], [[21]], [[22]], [[23]], [[31]], [[21]], [[17]], [[21]], [[32]], [[20]], [[22]], [[27]], [[22]], [[19]], [[26]], [[30]], [[23]], [[25]], [[23]], [[30]], [[22]], [[21]], [[23]]], [[[1615329398152580384792556137876973551303491617279688310784]], [[7]], [[25]], [[20]], [[16]], [[29]], [[22]], [[24]], [[22]], [[20]], [[40]], [[23]], [[33]], [[23]], [[20]], [[32]], [[31]], [[30]], [[41]], [[22]], [[45]], [[31]], [[22]], [[35]], [[30]], [[21]], [[34]], [[36]], [[21]]], [[[1615329398152580384792556137876973551303491617279688310784]], [[20]], [[20]], [[33138]], [[23]], [[25]], [[22]], [[20]], [[21]], [[23]], [[23]], [[19]], [[22]], [[20]], [[19]], [[20]], [[21]], [[20]], [[20]], [[21]], [[20]], [[21]], [[22]], [[24]], [[21]], [[29]], [[23]], [[21]], [[23]], [[23]], [[19]], [[21]], [[21]], [[28]], [[19]], [[28]], [[19]], [[28]]], [[[1615329398152580384792556137876973551303491617279688310784]], [[17]], [[25]], [[18]], [[21]], [[31]], [[28]], [[26]], [[27]], [[32]], [[26]], [[28]], [[22]], [[138204]], [[19]], [[28]], [[18]], [[31]], [[0]]], [[[1615329398152580384792556137876973551303491617279688310784]], [[24]], [[18]], [[27]], [[30]], [[21]], [[27]], [[29]], [[22]], [[19]], [[22]], [[22]], [[20]], [[21]], [[26]], [[21]], [[26]], [[35]], [[31]], [[22]], [[21]], [[20]], [[20]], [[29]], [[23]], [[34]], [[21]], [[20]], [[19]], [[28]], [[26]], [[29]], [[35]], [[31]], [[23]]], [[[1615329398152580384792556137876973551303491617279688310784]], [[19]], [[30]], [[19]], [[20]], [[28]], [[21]], [[20]], [[20]], [[21]], [[17]], [[25]], [[24]], [[35]], [[33]], [[19]], [[40]], [[19]], [[27]], [[21]], [[30]], [[24]]], [[[1615329398152580384792556137876973551303491617279688310784]], [[19]], [[21]], [[19]], [[18]], [[23]], [[20]], [[18]], [[19]], [[19]], [[19]], [[22]], [[20]], [[18]], [[25]], [[21]], [[35]], [[38]], [[20]], [[40]], [[23]], [[20]], [[37]], [[32]], [[20]], [[33]], [[24]], [[32]], [[22]], [[21]], [[23]]], [[[1615329398152580384792556137876973551303491617279688310784]], [[7]], [[25]], [[20]], [[16]], [[25]], [[24]], [[32]], [[36]], [[24]], [[24]], [[24]], [[26]], [[19]], [[35]], [[35]], [[22]], [[34]], [[22]], [[34]], [[40]], [[26]], [[27]], [[21]], [[31]], [[36]], [[23]], [[22]], [[29]], [[34]]], [[[1615329398152580384792556137876973551303491617279688310784]], [[24]], [[28]], [[34]], [[35]], [[22]], [[43]], [[37]], [[34]], [[36]], [[25]], [[27]], [[33]], [[40]], [[20]], [[21]], [[24]], [[123332]], [[33]], [[31]], [[35]], [[36]], [[23]], [[26]]], [[[1615329398152580384792556137876973551303491617279688310784]], [[20]], [[18]], [[20]], [[27]], [[19]], [[19]], [[29]], [[23]], [[32]], [[20]], [[22]], [[22]], [[21]], [[133249]], [[24]], [[27]], [[28]], [[36]]], [[[1615329398152580384792556137876973551303491617279688310784]], [[19]], [[18]], [[19]], [[25]], [[30]], [[23]], [[22]], [[20]], [[17]], [[20]], [[23]], [[30]], [[21]], [[20]], [[18]], [[27]], [[24]], [[29]], [[22]], [[21]], [[22]], [[20]], [[25]], [[21]], [[24]], [[21]], [[21]], [[25]], [[22]], [[22]], [[21]], [[20]], [[22]], [[24]], [[20]], [[24]]], [[[1615329398152580384792556137876973551303491617279688310784]], [[20]], [[24]], [[19]], [[19]], [[26]], [[24]], [[18]], [[21]], [[24]], [[19]], [[22]], [[22]], [[26]], [[23]], [[23]], [[25]], [[31]], [[24]], [[25]], [[28]], [[29]], [[26]]], [[[1615329398152580384792556137876973551303491617279688310784]], [[24]], [[24]], [[30]], [[20]], [[36]], [[28]], [[34]], [[32]], [[0]], [[30]], [[22]], [[26]], [[26]], [[30]], [[23]], [[37]], [[33]], [[22]], [[27]], [[23]], [[26]], [[26]], [[33]], [[23]]], [[[1615329398152580384792556137876973551303491617279688310784]], [[20]], [[20]], [[18]], [[25]], [[20]], [[17]], [[16]], [[21]], [[21]], [[18]], [[34]], [[37]], [[27]], [[39]], [[36]], [[35]], [[23]], [[22]], [[39]], [[21]], [[18]], [[22]], [[29]], [[21]], [[30]], [[24]], [[24]]], [[[1615329398152580384792556137876973551303491617279688310784]], [[7]], [[25]], [[20]], [[16]], [[33]], [[36]], [[22]], [[27]], [[31]], [[20]], [[19]], [[23]], [[33]], [[31]], [[25]], [[24]], [[20]], [[28]], [[20]], [[22]], [[18]], [[21]], [[19]], [[21]], [[26]], [[22]], [[32]], [[33]], [[29]], [[22]], [[21]], [[19]], [[24]]], [[[1615329398152580384792556137876973551303491617279688310784]], [[20]], [[20]], [[22]], [[21]], [[20]], [[19]], [[22]], [[34]], [[19]], [[22]], [[27]], [[19]], [[20]], [[34]], [[17]], [[23]], [[20]], [[20]], [[25]], [[84205]], [[24]], [[22]], [[24]], [[20]], [[26]], [[16]]], [[[1615329398152580384792556137876973551303491617279688310784]], [[19]], [[20]], [[28]], [[19]], [[21]], [[39]], [[23]], [[26]], [[20]], [[21]], [[29]], [[20]], [[21]], [[22]], [[19]], [[26]], [[22]], [[26]], [[22]], [[21]], [[30]], [[20]], [[29]], [[21]]], [[[1615329398152580384792556137876973551303491617279688310784]], [[22]], [[24]], [[21]], [[21]], [[25]], [[26]], [[20]], [[24]], [[21]], [[24]], [[25]], [[21]], [[22]], [[27]], [[325332]], [[26]], [[20]], [[19]], [[24]], [[25]], [[29]], [[32]], [[24]], [[25]], [[25]], [[22]], [[27]], [[22]], [[22]], [[25]], [[28]], [[23]], [[28]], [[22]], [[27]], [[27]], [[22]], [[26]], [[28]], [[24]]], [[[1615329398152580384792556137876973551303491617279688310784]], [[22]], [[19]], [[22]], [[27]], [[27]], [[22]], [[33]], [[20]], [[29]], [[22]], [[21]], [[19]], [[31]], [[21]], [[20]], [[19]], [[23]], [[27]], [[28]], [[32]], [[39]], [[0]], [[23]]], [[[1615329398152580384792556137876973551303491617279688310784]], [[19]], [[20]], [[23]], [[18]], [[19]], [[2472163]], [[21]], [[24]], [[24]], [[33]], [[20]], [[19]], [[18]], [[20]], [[20]], [[26]], [[31]], [[19]], [[23]]], [[[1615329398152580384792556137876973551303491617279688310784]], [[7]], [[25]], [[20]], [[16]], [[23]], [[22]], [[31]], [[23]], [[18]], [[19]], [[31]], [[31]], [[34]], [[26]], [[30]], [[28]], [[32]], [[40]], [[42]], [[32]], [[22]], [[32]], [[22]], [[42]], [[22]], [[20]], [[20]]], [[[1615329398152580384792556137876973551303491617279688310784]], [[20]], [[21]], [[16198]], [[23]], [[25]], [[22]], [[20]], [[20]], [[20]], [[20]], [[23]], [[26]], [[24]], [[18]], [[23]], [[20]], [[32]], [[24]], [[21]], [[27]], [[21]], [[20]], [[23]], [[26]], [[23]], [[26]], [[39]], [[26]], [[35]], [[27]], [[26]], [[27]], [[29]], [[32]], [[25]], [[29]], [[22]]], [[[1615329398152580384792556137876973551303491617279688310784]], [[21]], [[19]], [[25]], [[21]], [[22]], [[22]], [[25]], [[26]], [[20]], [[21]], [[21]], [[20]], [[20]], [[29]], [[24]], [[22]], [[20]], [[22]], [[20]], [[22]], [[22]], [[22]], [[23]], [[23]], [[18]], [[25]], [[23]], [[28]], [[18]], [[18]], [[24]], [[24]], [[21]], [[24]], [[25]]], [[[1615329398152580384792556137876973551303491617279688310784]], [[18]], [[18]], [[26]], [[18]], [[21]], [[22]], [[19]], [[18]], [[17]], [[32]], [[33]], [[33]], [[28]], [[34]], [[36]], [[22]], [[24]], [[31]], [[31]], [[35]], [[33]], [[30]], [[31]], [[34]], [[24]]], [[[1615329398152580384792556137876973551303491617279688310784]], [[24]], [[20]], [[20]], [[27]], [[24]], [[23]], [[21]], [[18]], [[26]], [[18]], [[18]], [[27]], [[22]], [[20]], [[27]], [[23]], [[24]], [[19]], [[33]], [[30]], [[34]], [[37]], [[29]], [[20]], [[20]], [[19]], [[23]], [[33]], [[36]], [[25]], [[21]]], [[[1615329398152580384792556137876973551303491617279688310784]], [[19]], [[19]], [[28]], [[29]], [[19]], [[31]], [[21]], [[23]], [[21]], [[28]], [[21]], [[20]], [[173518]], [[28]], [[25]], [[32]], [[29]], [[38]], [[34]], [[20]], [[21]], [[34]], [[36]], [[24]]], [[[1615329398152580384792556137876973551303491617279688310784]], [[20]], [[20]], [[12014]], [[23]], [[25]], [[22]], [[20]], [[21]], [[27]], [[30]], [[25]], [[30]], [[21]], [[23]], [[20]], [[20]], [[21]], [[21]], [[22]], [[28]], [[22]], [[26]], [[20]], [[20]], [[19]], [[19]], [[25]], [[21]], [[22]], [[19]], [[30]], [[23]], [[33]], [[30]], [[24]], [[20]], [[20]], [[22]]], [[[1615329398152580384792556137876973551303491617279688310784]], [[20]], [[20]], [[57314]], [[23]], [[25]], [[21]], [[20]], [[21]], [[23]], [[22]], [[23]], [[21]], [[21]], [[21]], [[19]], [[20]], [[21]], [[21]], [[28]], [[21]], [[20]], [[22]], [[20]], [[23]], [[25]], [[25]], [[24]], [[25]], [[21]], [[22]], [[19]], [[20]], [[20]], [[23]], [[29]], [[22]], [[23]], [[29]], [[37]], [[25]]], [[[1615329398152580384792556137876973551303491617279688310784]], [[18]], [[17]], [[19]], [[18]], [[20]], [[20]], [[28]], [[19]], [[22]], [[37]], [[22]], [[21]], [[18]], [[26]], [[20]], [[29]], [[33]], [[20]], [[37]], [[38]], [[24]]], [[[1615329398152580384792556137876973551303491617279688310784]], [[19]], [[18]], [[28]], [[27]], [[21]], [[20]], [[19]], [[33]], [[22]], [[27]], [[29]], [[25]], [[36]], [[20]], [[18]], [[31]]], [[[1615329398152580384792556137876973551303491617279688310784]], [[7]], [[25]], [[20]], [[16]], [[24]], [[23]], [[19]], [[21]], [[23]], [[32]], [[25]], [[19]], [[19]], [[32]], [[31]], [[31]], [[37]], [[30]], [[22]], [[22]], [[30]], [[18]], [[20]], [[37]], [[25]], [[32]], [[41]], [[22]]], [[[1615329398152580384792556137876973551303491617279688310784]], [[21]], [[20]], [[17]], [[20]], [[19]], [[19]], [[19]], [[20]], [[21]], [[23]], [[21]], [[20]], [[18]], [[26]], [[31]], [[35]], [[32]], [[23]], [[31]], [[20]], [[19]], [[23]], [[20]], [[21]], [[18]], [[23]], [[20]], [[18]], [[19]], [[20]]], [[[1615329398152580384792556137876973551303491617279688310784]], [[22]], [[24]], [[26]], [[34]], [[20]], [[23]], [[22]], [[22]], [[19]], [[21]], [[19]], [[20]], [[19]], [[22]], [[31]], [[29]], [[35]], [[29]], [[39]], [[23]], [[20]], [[20]], [[18]], [[31]], [[23]], [[26]], [[28]], [[28]], [[23]], [[22]], [[22]], [[24]], [[21]], [[27]]], [[[1615329398152580384792556137876973551303491617279688310784]], [[23]], [[24]], [[25]], [[20]], [[24]], [[0]], [[30]], [[26]], [[22]], [[18]], [[25]], [[29]], [[22]], [[25]], [[23]], [[24]], [[18]], [[21]], [[28]], [[27]], [[23]], [[19]], [[20]], [[19]], [[26]], [[25]], [[31]], [[30]], [[22]], [[20]]], [[[1615329398152580384792556137876973551303491617279688310784]], [[21]], [[26]], [[30]], [[25]], [[29]], [[33]], [[30]], [[29]], [[32]], [[32]], [[34]], [[21]], [[24]], [[23]], [[34]], [[23]], [[30]], [[22]], [[21]], [[25]], [[27]], [[31]], [[34]], [[25]], [[37]], [[31]]], [[[1615329398152580384792556137876973551303491617279688310784]], [[22]], [[0]], [[19]], [[18]], [[18]], [[25]], [[21]], [[23]], [[23]], [[19]], [[20]], [[23]], [[20]], [[24]], [[28]], [[27]], [[21]], [[26]], [[35]], [[26]], [[34]], [[24]], [[31]], [[32]], [[28]], [[23]], [[31]]], [[[1615329398152580384792556137876973551303491617279688310784]], [[20]], [[19]], [[17]], [[17]], [[17]], [[19]], [[21]], [[19]], [[24]], [[15]], [[21]], [[27]], [[37]], [[41]], [[23]], [[21]], [[22]], [[20]], [[33]], [[23]], [[21]], [[29]], [[34]], [[36]]], [[[1615329398152580384792556137876973551303491617279688310784]], [[21]], [[26]], [[21]], [[20]], [[28]], [[21]], [[19]], [[18]], [[25]], [[22]], [[20]], [[35]], [[21]], [[20]], [[20]], [[19]], [[21]], [[26]], [[22]], [[32]], [[31]], [[21]], [[19]]], [[[1615329398152580384792556137876973551303491617279688310784]], [[19]], [[18]], [[23]], [[17]], [[31]], [[32]], [[22]], [[28]], [[21]], [[25]], [[22]], [[18]], [[22]], [[20]], [[19]], [[21]], [[30]], [[26]], [[28]], [[23]], [[30]], [[36]], [[22]], [[25]], [[32]], [[22]], [[25]], [[29]], [[23]]], [[[1615329398152580384792556137876973551303491617279688310784]], [[20]], [[18]], [[18]], [[18]], [[19]], [[26]], [[23]], [[19]], [[19]], [[21]], [[20]], [[23]], [[19]], [[32]], [[24]], [[21]], [[21]], [[19]], [[21]], [[26]], [[20]], [[23]], [[25]]], [[[1615329398152580384792556137876973551303491617279688310784]], [[7]], [[25]], [[20]], [[16]], [[33]], [[25]], [[21]], [[26]], [[28]], [[25]], [[20]], [[23]], [[25]], [[23]], [[20]], [[32]], [[32]], [[21]], [[37]], [[32]], [[23]], [[18]], [[23]], [[32]], [[31]], [[35]], [[24]], [[26]], [[25]], [[35]], [[23]], [[22]], [[38]]], [[[1615329398152580384792556137876973551303491617279688310784]], [[23]], [[22]], [[20]], [[25]], [[35]], [[19]], [[18]], [[19]], [[23]], [[33]], [[20]], [[21]], [[21]], [[34]], [[25]], [[27]], [[27]], [[23]], [[31]], [[21]]], [[[1615329398152580384792556137876973551303491617279688310784]], [[22]], [[21]], [[17]], [[18]], [[19]], [[19]], [[17]], [[19]], [[22]], [[30]], [[33]], [[34]], [[30]], [[39]], [[23]], [[28]], [[27]], [[28]], [[22]], [[25]], [[22]], [[22]], [[18]], [[34]], [[35]], [[26]], [[26]], [[32]]], [[[1615329398152580384792556137876973551303491617279688310784]], [[19]], [[19]], [[23]], [[20]], [[25]], [[22]], [[20]], [[17]], [[23]], [[19]], [[21]], [[21]], [[24]], [[21]], [[20]], [[32]], [[30]], [[31]], [[36]], [[35]], [[31]], [[24]]], [[[1615329398152580384792556137876973551303491617279688310784]], [[25]], [[31]], [[28]], [[29]], [[20]], [[24]], [[22]], [[36]], [[29]], [[28]], [[30]], [[32]], [[29]], [[24]], [[36]], [[34]], [[30]], [[22]], [[32]], [[31]], [[31]], [[36]], [[22]], [[22]]], [[[1615329398152580384792556137876973551303491617279688310784]], [[7]], [[25]], [[20]], [[16]], [[21]], [[21]], [[21]], [[22]], [[34]], [[26]], [[20]], [[25]], [[20]], [[24]], [[20]], [[22]], [[23]], [[25]], [[23]], [[19]], [[29]], [[21]], [[37]], [[22]], [[39]], [[31]], [[26]], [[22]], [[25]], [[23]]], [[[1615329398152580384792556137876973551303491617279688310784]], [[22]], [[24]], [[19]], [[18]], [[28]], [[23]], [[23]], [[22]], [[21]], [[18]], [[17]], [[23]], [[26]], [[25]], [[32]], [[20]], [[22]], [[24]], [[20]], [[31]], [[22]], [[19]], [[29]], [[23]], [[0]], [[27]], [[21]], [[25]], [[24]], [[23]], [[25]], [[26]], [[31]], [[22]], [[19]]], [[[1615329398152580384792556137876973551303491617279688310784]], [[7]], [[25]], [[20]], [[16]], [[20]], [[19]], [[23]], [[24]], [[26]], [[38]], [[22]], [[35]], [[20]], [[27]], [[24]], [[19]], [[32]], [[30]], [[26]], [[36]], [[23]], [[35]], [[24]], [[19]], [[30]], [[20]]], [[[1615329398152580384792556137876973551303491617279688310784]], [[21]], [[21]], [[20]], [[23]], [[19]], [[17]], [[17]], [[21]], [[27]], [[20]], [[22]], [[18]], [[18]], [[23]], [[32]], [[35]], [[30]], [[24]], [[31]], [[25]], [[19]], [[23]], [[30]], [[32]], [[30]], [[29]], [[24]], [[21]], [[32]], [[23]]], [[[1615329398152580384792556137876973551303491617279688310784]], [[23]], [[20]], [[27]], [[25]], [[26]], [[27]], [[22]], [[31]], [[22]], [[23]], [[22]], [[21]], [[23]], [[27]], [[25]], [[24]], [[22]], [[23]], [[20]], [[23]], [[27]], [[25]], [[38]], [[32]], [[34]], [[27]], [[40]], [[22]]], [[[1615329398152580384792556137876973551303491617279688310784]], [[19]], [[18]], [[31]], [[29]], [[36]], [[20]], [[20]], [[21]], [[31]], [[35]], [[31]], [[20]], [[22]], [[24]], [[29]], [[21]], [[21]], [[22]], [[18]], [[34]], [[19]], [[30]], [[22]], [[36]], [[25]], [[51]], [[29]], [[35]]], [[[1615329398152580384792556137876973551303491617279688310784]], [[18]], [[20]], [[25]], [[29]], [[18]], [[23]], [[0]], [[21]], [[22]], [[27]], [[23]], [[30]], [[21]], [[27]], [[25]], [[28]], [[20]], [[23]], [[20]], [[26]], [[26]], [[30]], [[22]], [[27]], [[25]], [[21]]], [[[1615329398152580384792556137876973551303491617279688310784]], [[7]], [[25]], [[20]], [[16]], [[24]], [[20]], [[21]], [[29]], [[19]], [[18]], [[20]], [[23]], [[26]], [[20]], [[38]], [[30]], [[26]], [[41]], [[23]], [[32]], [[22]], [[22]], [[31]], [[35]], [[36]], [[22]], [[38]], [[36]], [[26]]], [[[1615329398152580384792556137876973551303491617279688310784]], [[24]], [[21]], [[20]], [[21]], [[27]], [[20]], [[19]], [[20]], [[18]], [[27]], [[36]], [[22]], [[29]], [[20]], [[29]], [[30]], [[19]], [[23]], [[25]], [[20]], [[30]], [[20]], [[22]], [[27]], [[36]], [[36]], [[0]], [[22]]], [[[1615329398152580384792556137876973551303491617279688310784]], [[19]], [[19]], [[19]], [[20]], [[22]], [[20]], [[20]], [[19]], [[23]], [[21]], [[21]], [[26]], [[33]], [[21]], [[20]], [[24]], [[19]], [[23]], [[21]], [[26]], [[25]], [[23]], [[28]], [[36]], [[21]], [[24]], [[35]], [[22]], [[22]]], [[[1615329398152580384792556137876973551303491617279688310784]], [[7]], [[21]], [[22]], [[22]], [[19]], [[20]], [[20]], [[18]], [[20]], [[22]], [[22]], [[24]], [[20]], [[20]], [[23]], [[33]], [[35]], [[21]], [[25]], [[27]], [[27]], [[22]], [[24]], [[28]], [[37]], [[20]], [[21]], [[23]], [[25]], [[21]], [[25]]], [[[1615329398152580384792556137876973551303491617279688310784]], [[18]], [[23]], [[18]], [[22]], [[20]], [[21]], [[19]], [[19]], [[26]], [[19]], [[20]], [[23]], [[20]], [[27]], [[18]], [[22]], [[17]], [[25]], [[23]], [[25]], [[24]]], [[[1615329398152580384792556137876973551303491617279688310784]], [[19]], [[20]], [[31]], [[20]], [[24]], [[34]], [[22]], [[21]], [[20]], [[21]], [[18]], [[21]], [[19]], [[110211]], [[24]], [[23]], [[19]], [[19]], [[20]], [[16]], [[19]], [[24]], [[22]], [[28]], [[18]], [[20]], [[22]]], [[[1615329398152580384792556137876973551303491617279688310784]], [[24]], [[25]], [[26]], [[36]], [[36]], [[18]], [[24]], [[19]], [[19]], [[30]], [[34]], [[19]], [[18]], [[20]], [[20]], [[21]], [[26]], [[21]]], [[[1615329398152580384792556137876973551303491617279688310784]], [[23]], [[19]], [[22]], [[32]], [[30]], [[24]], [[23]], [[26]], [[31]], [[24]], [[26]], [[26]], [[38]], [[19]], [[19]], [[22]], [[33]]], [[[1615329398152580384792556137876973551303491617279688310784]], [[19]], [[20]], [[25]], [[20]], [[20]], [[26]], [[20]], [[21]], [[27]], [[20]], [[20]], [[20]], [[19]], [[21]], [[18]], [[23]], [[35]], [[22]], [[24]], [[22]], [[35]], [[22]], [[29]], [[21]], [[27]], [[20]], [[24]], [[21]], [[22]], [[22]], [[19]], [[27]]], [[[1615329398152580384792556137876973551303491617279688310784]], [[22]], [[19]], [[27]], [[19]], [[22]], [[24]], [[18]], [[24]], [[23]], [[28]], [[23]], [[22]], [[20]], [[18]], [[25]], [[19]], [[20]], [[19]], [[20]], [[28]], [[24]], [[19]], [[27]], [[22]], [[20]], [[21]], [[20]], [[21]], [[24]], [[28]], [[22]], [[24]], [[27]], [[25]]], [[[1615329398152580384792556137876973551303491617279688310784]], [[7]], [[25]], [[32]], [[19]], [[20]], [[20]], [[32]], [[25]], [[38]], [[29]], [[20]], [[23]], [[42]], [[33]], [[20]], [[21]], [[24]], [[19]], [[38]], [[20]], [[26]]], [[[1615329398152580384792556137876973551303491617279688310784]], [[24]], [[30]], [[31]], [[37]], [[24]], [[29]], [[30]], [[23]], [[33]], [[31]], [[21]], [[26]], [[20]], [[270686]], [[31]], [[34]], [[22]], [[22]], [[23]], [[33]], [[34]], [[33]], [[22]]], [[[1615329398152580384792556137876973551303491617279688310784]], [[7]], [[25]], [[20]], [[16]], [[23]], [[22]], [[22]], [[20]], [[32]], [[32]], [[29]], [[25]], [[21]], [[20]], [[32]], [[29]], [[30]], [[21]], [[20]], [[35]], [[32]], [[24]], [[19]], [[37]], [[30]], [[37]]], [[[1615329398152580384792556137876973551303491617279688310784]], [[19]], [[17]], [[18]], [[18]], [[18]], [[19]], [[20]], [[78777]], [[24]], [[18]], [[20]], [[20]], [[18]], [[26]], [[19]], [[19]], [[22]], [[19]], [[33]], [[31]], [[24]], [[38]], [[19]], [[19]], [[19]], [[18]], [[17]], [[18]], [[20]], [[19]], [[24]], [[28]], [[22]], [[22]], [[19]]], [[[1615329398152580384792556137876973551303491617279688310784]], [[24]], [[27]], [[24]], [[34]], [[27]], [[42]], [[23]], [[32]], [[36]], [[23]], [[21]], [[23]], [[19]], [[20]], [[24]], [[29]], [[40]], [[19]], [[19]], [[19]], [[24]], [[30]], [[24]], [[30]], [[22]], [[20]]], [[[1615329398152580384792556137876973551303491617279688310784]], [[7]], [[25]], [[20]], [[16]], [[21]], [[23]], [[22]], [[18]], [[23]], [[19]], [[24]], [[31]], [[32]], [[36]], [[27]], [[36]], [[24]], [[25]], [[20]], [[31]], [[32]], [[25]], [[21]], [[20]], [[22]], [[20]], [[23]], [[22]], [[25]], [[28]], [[27]], [[22]], [[31]], [[38]], [[30]], [[33]], [[23]]], [[[1615329398152580384792556137876973551303491617279688310784]], [[19]], [[20]], [[20]], [[20]], [[20]], [[30]], [[19]], [[23]], [[19]], [[17]], [[25]], [[19]], [[22]], [[24]], [[17]], [[20]], [[19]], [[22]], [[19]], [[30]], [[20]], [[29]], [[21]], [[22]], [[29]]], [[[1615329398152580384792556137876973551303491617279688310784]], [[24]], [[21]], [[28]], [[31]], [[23]], [[27]], [[29]], [[20]], [[25]], [[33]], [[21]], [[22]], [[397248]], [[23]], [[27]], [[26]], [[25]], [[19]], [[18]], [[24]], [[28]], [[24]], [[21]], [[25]], [[21]], [[30]], [[28]], [[23]], [[30]]], [[[1615329398152580384792556137876973551303491617279688310784]], [[21]], [[19]], [[18]], [[37]], [[22]], [[2006130]], [[24]], [[20]], [[22]], [[18]], [[22]], [[18]], [[25]], [[21]], [[25]], [[29]], [[25]], [[30]], [[26]], [[41]], [[22]], [[25]], [[32]], [[28]]], [[[1615329398152580384792556137876973551303491617279688310784]], [[19]], [[23]], [[21]], [[19]], [[20]], [[21]], [[24]], [[24]], [[20]], [[23]], [[19]], [[26]], [[20]], [[23]], [[23]], [[20]], [[21]], [[20]], [[20]], [[19]], [[20]], [[19]], [[23]], [[22]], [[30]], [[22]], [[34]], [[26]], [[32]], [[23]], [[25]], [[23]], [[19]], [[21]], [[22]], [[21]], [[19]], [[18]], [[19]], [[19]], [[22]], [[21]], [[35]], [[21]], [[19]], [[19]]], [[[1615329398152580384792556137876973551303491617279688310784]], [[20]], [[18]], [[22]], [[29]], [[18]], [[21]], [[30]], [[24]], [[37]], [[35]], [[26]], [[33]], [[21]], [[25]], [[24]], [[27]], [[33]], [[22]], [[34]], [[21]], [[24]]], [[[1615329398152580384792556137876973551303491617279688310784]], [[24]], [[18]], [[25]], [[26]], [[29]], [[22]], [[22]], [[18]], [[25]], [[30]], [[21]], [[18]], [[18]], [[28]], [[20]], [[20]], [[26]], [[24]], [[31]], [[23]], [[21]], [[21]], [[24]], [[20]], [[25]], [[21]], [[20]], [[23]], [[24]], [[22]], [[31]], [[31]], [[25]]], [[[1615329398152580384792556137876973551303491617279688310784]], [[7]], [[25]], [[20]], [[16]], [[23]], [[25]], [[21]], [[29]], [[20]], [[48]], [[33]], [[31]], [[30]], [[25]], [[27]], [[23]], [[26]], [[22]], [[22]], [[24]], [[20]], [[32]], [[31]], [[38]], [[36]], [[28]], [[35]], [[23]], [[26]], [[33]], [[19]], [[25]]], [[[1615329398152580384792556137876973551303491617279688310784]], [[24]], [[30]], [[24]], [[33]], [[21]], [[35]], [[19]], [[32]], [[20]], [[24]], [[25]], [[22]], [[17]], [[22]], [[29]], [[26]], [[23]], [[19]], [[20]], [[31]], [[26]], [[27]], [[25]], [[21]], [[31]], [[37]]], [[[1615329398152580384792556137876973551303491617279688310784]], [[20]], [[26]], [[17]], [[18]], [[21]], [[17]], [[19]], [[18]], [[29]], [[23]], [[25]], [[20]], [[22]], [[20]], [[24]], [[18]], [[23]], [[17]], [[35]], [[17]], [[18]], [[24]], [[30]]], [[[1615329398152580384792556137876973551303491617279688310784]], [[26]], [[26]], [[17]], [[23]], [[22]], [[25]], [[18]], [[17]], [[28]], [[28]], [[18]], [[25]], [[15]], [[22]], [[20]], [[20]], [[27]], [[37]], [[40]], [[23]], [[19]], [[25]], [[27]], [[21]], [[32]], [[35]], [[31]]], [[[1615329398152580384792556137876973551303491617279688310784]], [[19]], [[18]], [[23]], [[22]], [[36]], [[21]], [[30]], [[31]], [[28]], [[22]], [[21]], [[23]], [[26]], [[28]], [[25]], [[24]], [[24]], [[21]], [[25]], [[25]], [[22]], [[21]], [[28]], [[20]], [[21]], [[23]], [[23]], [[25]], [[26]], [[18]], [[27]]], [[[1615329398152580384792556137876973551303491617279688310784]], [[23]], [[20]], [[28]], [[19]], [[21]], [[20]], [[21]], [[18]], [[20]], [[19]], [[19]], [[20]], [[20]], [[19]], [[20]], [[18]], [[24]], [[28]], [[20]], [[27]], [[27]], [[26]], [[27]], [[29]], [[23]]], [[[1615329398152580384792556137876973551303491617279688310784]], [[22]], [[18]], [[30]], [[29]], [[18]], [[19]], [[17]], [[28]], [[25]], [[35]], [[24]], [[33]], [[37]], [[33]], [[36]], [[29]], [[27]], [[23]], [[24]], [[21]], [[21]], [[33]], [[29]], [[26]], [[23]], [[20]], [[20]], [[35]], [[38]], [[23]]], [[[1615329398152580384792556137876973551303491617279688310784]], [[23]], [[20]], [[29]], [[19]], [[18]], [[34]], [[31]], [[21]], [[33]], [[20]], [[21]], [[210855]], [[23]], [[27]], [[29]], [[21]], [[37]], [[21]], [[19]], [[22]]], [[[1615329398152580384792556137876973551303491617279688310784]], [[23]], [[25]], [[22]], [[22]], [[26]], [[21]], [[24]], [[22]], [[21]], [[24]], [[24]], [[24]], [[20]], [[20]], [[20]], [[26]], [[20]], [[19]], [[28]], [[37]], [[32]], [[25]], [[35]], [[19]], [[22]], [[24]], [[24]]], [[[1615329398152580384792556137876973551303491617279688310784]], [[20]], [[19]], [[19]], [[19]], [[20]], [[30]], [[21]], [[31]], [[0]], [[20]], [[33]], [[22]], [[21]], [[33]], [[21]], [[30]], [[20]], [[22]], [[25]], [[20]], [[22]], [[23]], [[30]], [[84734]], [[30]], [[23]]], [[[1615329398152580384792556137876973551303491617279688310784]], [[24]], [[19]], [[19]], [[22]], [[20]], [[30]], [[21]], [[20]], [[28]], [[30]], [[27]], [[20]], [[25]], [[24]], [[23]], [[31]], [[19]], [[28]], [[29]], [[28]], [[19]], [[26]], [[24]], [[26]], [[31]], [[19]], [[28]], [[30]], [[28]], [[22]], [[22]]], [[[1615329398152580384792556137876973551303491617279688310784]], [[22]], [[20]], [[20]], [[19]], [[17]], [[18]], [[19]], [[20]], [[19]], [[18]], [[24]], [[20]], [[20]], [[21]], [[25]], [[35]], [[18]], [[37]], [[21]], [[20]], [[20]], [[25]], [[35]], [[21]], [[24]], [[30]], [[24]]], [[[1615329398152580384792556137876973551303491617279688310784]], [[17]], [[21]], [[20]], [[26]], [[19]], [[20]], [[31]], [[19]], [[20]], [[21]], [[34]], [[22]], [[18]], [[20]], [[20]], [[18]], [[131137]], [[24]], [[30]], [[26]], [[28]], [[36]], [[22]]], [[[1615329398152580384792556137876973551303491617279688310784]], [[17]], [[21]], [[30]], [[18]], [[19]], [[26]], [[25]], [[20]], [[20]], [[20]], [[30]], [[22]], [[18]], [[25]], [[24]], [[22]], [[24]], [[24]], [[21]], [[22]], [[29]], [[29]], [[25]]], [[[1615329398152580384792556137876973551303491617279688310784]], [[20]], [[27]], [[19]], [[27]], [[21]], [[19]], [[35]], [[20]], [[19]], [[1206640]], [[22]], [[26]], [[20]], [[26]], [[33]], [[32]], [[34]], [[38]], [[22]], [[26]]], [[[1615329398152580384792556137876973551303491617279688310784]], [[19]], [[19]], [[20]], [[22]], [[19]], [[21]], [[18]], [[19]], [[20]], [[18]], [[20]], [[19]], [[17]], [[22]], [[20]], [[19]], [[22]], [[22]], [[23]], [[18]], [[20]], [[23]], [[19]], [[22]], [[20]], [[20]], [[23]], [[19]], [[17]], [[20]], [[20]]], [[[1615329398152580384792556137876973551303491617279688310784]], [[7]], [[25]], [[20]], [[16]], [[22]], [[21]], [[20]], [[19]], [[19]], [[33]], [[33]], [[37]], [[27]], [[35]], [[22]], [[19]], [[36]], [[21]], [[21]], [[19]], [[21]], [[39]], [[39]], [[26]], [[37]], [[25]]]], \"firstDimensionName\": \"Layer\", \"secondDimensionName\": \"Neuron\"}\n",
       "    )\n",
       "    </script>"
      ],
      "text/plain": [
       "<IPython.core.display.HTML object>"
      ]
     },
     "metadata": {},
     "output_type": "display_data"
    }
   ],
   "source": [
    "from IPython.core.display import display, HTML\n",
    "\n",
    "display(HTML(str(html)))"
   ]
  }
 ],
 "metadata": {
  "kernelspec": {
   "display_name": ".venv",
   "language": "python",
   "name": "python3"
  },
  "language_info": {
   "codemirror_mode": {
    "name": "ipython",
    "version": 3
   },
   "file_extension": ".py",
   "mimetype": "text/x-python",
   "name": "python",
   "nbconvert_exporter": "python",
   "pygments_lexer": "ipython3",
   "version": "3.9.18"
  }
 },
 "nbformat": 4,
 "nbformat_minor": 2
}

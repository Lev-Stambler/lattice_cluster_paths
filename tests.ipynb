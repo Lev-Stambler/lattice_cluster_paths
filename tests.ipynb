{
 "cells": [
  {
   "cell_type": "code",
   "execution_count": 1,
   "metadata": {},
   "outputs": [
    {
     "name": "stderr",
     "output_type": "stream",
     "text": [
      "/home/lev/code/research/ai/lattice_cluster_paths/.venv/lib/python3.9/site-packages/tqdm/auto.py:21: TqdmWarning: IProgress not found. Please update jupyter and ipywidgets. See https://ipywidgets.readthedocs.io/en/stable/user_install.html\n",
      "  from .autonotebook import tqdm as notebook_tqdm\n"
     ]
    }
   ],
   "source": [
    "from utils import top_k_dag_paths_dynamic"
   ]
  },
  {
   "cell_type": "code",
   "execution_count": 9,
   "metadata": {},
   "outputs": [
    {
     "data": {
      "text/plain": [
       "[([-1, 1, 0, 1, 0, 0], 35.0),\n",
       " ([-1, 1, 0, 1, 0, 0], 35.0),\n",
       " ([-1, 0, 1, 1, 0, 0], 29.0),\n",
       " ([-1, 0, 1, 0, 1, 0], 28.0),\n",
       " ([-1, 0, 1, 0, 0, 0], 27.0),\n",
       " ([-1, 0, 0, 1, 0, 0], 27.0),\n",
       " ([-1, 1, 1, 1, 0, 0], 25.0),\n",
       " ([-1, 1, 1, 1, 0, 0], 25.0),\n",
       " ([-1, 1, 1, 0, 1, 0], 24.0),\n",
       " ([-1, 1, 1, 0, 1, 0], 24.0),\n",
       " ([-1, 1, 0, 1, 1, 0], 24.0),\n",
       " ([-1, 1, 0, 1, 1, 0], 24.0),\n",
       " ([-1, 1, 1, 0, 0, 0], 23.0),\n",
       " ([-1, 1, 1, 0, 0, 0], 23.0),\n",
       " ([-1, 0, 1, 1, 0, 0], 22.0),\n",
       " ([-1, 1, 0, 0, 1, 0], 22.0),\n",
       " ([-1, 1, 0, 0, 1, 0], 22.0),\n",
       " ([-1, 1, 0, 0, 0, 0], 21.0),\n",
       " ([-1, 1, 0, 0, 0, 0], 21.0),\n",
       " ([-1, 0, 1, 0, 1, 0], 21.0),\n",
       " ([-1, 0, 1, 0, 0, 0], 20.0),\n",
       " ([-1, 0, 0, 1, 0, 0], 20.0),\n",
       " ([-1, 0, 1, 1, 1, 0], 18.0),\n",
       " ([-1, 0, 0, 1, 1, 0], 16.0),\n",
       " ([-1, 0, 0, 0, 1, 0], 14.0),\n",
       " ([-1, 1, 1, 1, 1, 0], 14.0),\n",
       " ([-1, 1, 1, 1, 1, 0], 14.0),\n",
       " ([-1, 0, 0, 0, 0, 0], 13.0),\n",
       " ([-1, 0, 1, 1, 1, 0], 11.0),\n",
       " ([-1, 0, 0, 1, 1, 0], 9.0),\n",
       " ([-1, 0, 0, 0, 1, 0], 7.0),\n",
       " ([-1, 0, 0, 0, 0, 0], 6.0)]"
      ]
     },
     "execution_count": 9,
     "metadata": {},
     "output_type": "execute_result"
    }
   ],
   "source": [
    "layers = [\n",
    "    [\n",
    "        [\n",
    "            0, 2\n",
    "        ],\n",
    "        [\n",
    "            7, 2\n",
    "        ]\n",
    "    ],\n",
    "    [\n",
    "        [\n",
    "            2, 3\n",
    "        ],\n",
    "        [\n",
    "            15, 4\n",
    "        ]\n",
    "    ],\n",
    "    [\n",
    "        [\n",
    "            2, 3\n",
    "        ],\n",
    "        [\n",
    "            15, 4\n",
    "        ]\n",
    "    ],\n",
    "    [\n",
    "        [\n",
    "            2, 3\n",
    "        ],\n",
    "        [\n",
    "            15, 4\n",
    "        ]\n",
    "    ]\n",
    "]\n",
    "top_k_dag_paths_dynamic(layers, k=50)"
   ]
  }
 ],
 "metadata": {
  "kernelspec": {
   "display_name": ".venv",
   "language": "python",
   "name": "python3"
  },
  "language_info": {
   "codemirror_mode": {
    "name": "ipython",
    "version": 3
   },
   "file_extension": ".py",
   "mimetype": "text/x-python",
   "name": "python",
   "nbconvert_exporter": "python",
   "pygments_lexer": "ipython3",
   "version": "3.9.18"
  }
 },
 "nbformat": 4,
 "nbformat_minor": 2
}

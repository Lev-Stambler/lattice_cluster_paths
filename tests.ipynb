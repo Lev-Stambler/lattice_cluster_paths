{
 "cells": [
  {
   "cell_type": "code",
   "execution_count": 1,
   "metadata": {},
   "outputs": [
    {
     "name": "stderr",
     "output_type": "stream",
     "text": [
      "/home/lev/code/research/ai/lattice_cluster_paths/.venv/lib/python3.9/site-packages/tqdm/auto.py:21: TqdmWarning: IProgress not found. Please update jupyter and ipywidgets. See https://ipywidgets.readthedocs.io/en/stable/user_install.html\n",
      "  from .autonotebook import tqdm as notebook_tqdm\n"
     ]
    }
   ],
   "source": [
    "from utils import top_k_dag_paths_dynamic"
   ]
  },
  {
   "cell_type": "code",
   "execution_count": 3,
   "metadata": {},
   "outputs": [
    {
     "data": {
      "text/plain": [
       "[([-1, 1, 0, 1, 0, 0], 35),\n",
       " ([-1, 0, 1, 1, 0, 0], 29),\n",
       " ([-1, 0, 1, 0, 1, 0], 28),\n",
       " ([-1, 0, 1, 0, 0, 0], 27),\n",
       " ([-1, 0, 0, 1, 0, 0], 27),\n",
       " ([-1, 1, 1, 1, 0, 0], 25),\n",
       " ([-1, 1, 1, 0, 1, 0], 24),\n",
       " ([-1, 1, 0, 1, 1, 0], 24),\n",
       " ([-1, 1, 1, 0, 0, 0], 23),\n",
       " ([-1, 0, 1, 1, 0, 0], 22),\n",
       " ([-1, 1, 0, 0, 1, 0], 22),\n",
       " ([-1, 1, 0, 0, 0, 0], 21),\n",
       " ([-1, 0, 1, 0, 1, 0], 21),\n",
       " ([-1, 0, 1, 0, 0, 0], 20),\n",
       " ([-1, 0, 0, 1, 0, 0], 20),\n",
       " ([-1, 0, 1, 1, 1, 0], 18),\n",
       " ([-1, 0, 0, 1, 1, 0], 16),\n",
       " ([-1, 0, 0, 0, 1, 0], 14),\n",
       " ([-1, 1, 1, 1, 1, 0], 14),\n",
       " ([-1, 0, 0, 0, 0, 0], 13),\n",
       " ([-1, 0, 1, 1, 1, 0], 11),\n",
       " ([-1, 0, 0, 1, 1, 0], 9),\n",
       " ([-1, 0, 0, 0, 1, 0], 7),\n",
       " ([-1, 0, 0, 0, 0, 0], 6)]"
      ]
     },
     "execution_count": 3,
     "metadata": {},
     "output_type": "execute_result"
    }
   ],
   "source": [
    "layers = [\n",
    "    [\n",
    "        [\n",
    "            0, 2\n",
    "        ],\n",
    "        [\n",
    "            7, 2\n",
    "        ]\n",
    "    ],\n",
    "    [\n",
    "        [\n",
    "            2, 3\n",
    "        ],\n",
    "        [\n",
    "            15, 4\n",
    "        ]\n",
    "    ],\n",
    "    [\n",
    "        [\n",
    "            2, 3\n",
    "        ],\n",
    "        [\n",
    "            15, 4\n",
    "        ]\n",
    "    ],\n",
    "    [\n",
    "        [\n",
    "            2, 3\n",
    "        ],\n",
    "        [\n",
    "            15, 4\n",
    "        ]\n",
    "    ]\n",
    "]\n",
    "# TODO: why 10 and 30 are different top???\n",
    "top_k_dag_paths_dynamic(layers, k=10)"
   ]
  }
 ],
 "metadata": {
  "kernelspec": {
   "display_name": ".venv",
   "language": "python",
   "name": "python3"
  },
  "language_info": {
   "codemirror_mode": {
    "name": "ipython",
    "version": 3
   },
   "file_extension": ".py",
   "mimetype": "text/x-python",
   "name": "python",
   "nbconvert_exporter": "python",
   "pygments_lexer": "ipython3",
   "version": "3.9.18"
  }
 },
 "nbformat": 4,
 "nbformat_minor": 2
}

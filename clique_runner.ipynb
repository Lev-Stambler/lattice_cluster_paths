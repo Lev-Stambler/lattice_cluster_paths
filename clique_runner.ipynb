{
 "cells": [
  {
   "cell_type": "code",
   "execution_count": 99,
   "metadata": {},
   "outputs": [
    {
     "name": "stdout",
     "output_type": "stream",
     "text": [
      "Creating decomposer with parameter data hash cache/data-9ca1a7113cd59c0eaf97b97c20dd15e5b47664cf/start.pkl\n",
      "Creating decomposer with parameter lattice hash cache/correlation-cf1e08d4f095000f1b6688a204d42b7c56a5d436/start.pkl\n",
      "Created dataset\n"
     ]
    }
   ],
   "source": [
    "import src.decorrelate as cluster_model\n",
    "MODEL_NAME = 'EleutherAI/pythia-70m'\n",
    "DATASET_NAME = 'NeelNanda/pile-10k'\n",
    "\n",
    "N_DIMS = 512\n",
    "SEED = 69_420\n",
    " \n",
    "DEBUG = False\n",
    " \n",
    "if DEBUG:\n",
    "    N_DATASIZE = 300\n",
    "    N_BLOCKS = 12\n",
    "    STRING_SIZE_CUTOFF = 200\n",
    "else:\n",
    "    # It gets killed aroun 1_800 idk why. Maybe we have a problem with token truncation somewhere\n",
    "    N_DATASIZE = 2_001 # TODO: was 3_000 for non-digraph\n",
    "# \n",
    "    # N_CLUSTERS_MIN = int(0.5 * N_DIMS)\n",
    "    # N_CLUSTERS_MAX = 10 * N_DIMS\n",
    "    # TODO: DEL ME\n",
    "    N_BLOCKS = 6\n",
    "    STRING_SIZE_CUTOFF = 1_000\n",
    "\n",
    "params = cluster_model.InterpParams(\n",
    "\tlattice_params=cluster_model.LatticeParams(\n",
    "\t\ttop_layer_idx = -1,\n",
    "        max_n_parents = 4\n",
    "\t),\n",
    "    # quantization='4bit',\n",
    "\tseed=SEED,\n",
    "    n_datasize=N_DATASIZE,\n",
    "    n_blocks=N_BLOCKS,\n",
    "    model_name=MODEL_NAME,\n",
    "\tmodel_n_dims=N_DIMS,\n",
    "    dataset_name=DATASET_NAME,\n",
    "    string_size_cutoff=STRING_SIZE_CUTOFF,\n",
    "    quantization='4bit'\n",
    ")\n",
    "\n",
    "decomp = cluster_model.Decomposer(params)"
   ]
  },
  {
   "cell_type": "code",
   "execution_count": 100,
   "metadata": {},
   "outputs": [
    {
     "data": {
      "text/plain": [
       "'\\n   class GPTNeoXLayer(nn.Module):\\n    def __init__(self, config):\\n        super().__init__()\\n        self.use_parallel_residual = config.use_parallel_residual\\n        self.input_layernorm = nn.LayerNorm(config.hidden_size, eps=config.layer_norm_eps)\\n        self.post_attention_layernorm = nn.LayerNorm(config.hidden_size, eps=config.layer_norm_eps)\\n        self.post_attention_dropout = nn.Dropout(config.hidden_dropout)\\n        self.post_mlp_dropout = nn.Dropout(config.hidden_dropout)\\n        self.attention = GPTNeoXAttention(config)\\n        self.mlp = GPTNeoXMLP(config)\\n\\n    def forward(\\n        self,\\n        hidden_states: Optional[torch.FloatTensor],\\n        attention_mask: Optional[torch.FloatTensor] = None,\\n        position_ids: Optional[torch.LongTensor] = None,\\n        head_mask: Optional[torch.FloatTensor] = None,\\n        use_cache: Optional[bool] = False,\\n        layer_past: Optional[Tuple[torch.Tensor]] = None,\\n        output_attentions: Optional[bool] = False,\\n    ):\\n        attention_layer_outputs = self.attention(\\n            self.input_layernorm(hidden_states),\\n            attention_mask=attention_mask,\\n            position_ids=position_ids,\\n            layer_past=layer_past,\\n            head_mask=head_mask,\\n            use_cache=use_cache,\\n            output_attentions=output_attentions,\\n        )\\n        attn_output = attention_layer_outputs[0]  # output_attn: attn_output, present, (attn_weights)\\n        attn_output = self.post_attention_dropout(attn_output)\\n        outputs = list(attention_layer_outputs[1:])\\n\\n        if self.use_parallel_residual:\\n            # pseudocode:\\n            # x = x + attn(ln1(x)) + mlp(ln2(x))\\n            mlp_output = self.mlp(self.post_attention_layernorm(hidden_states))\\n            mlp_output = self.post_mlp_dropout(mlp_output)\\n            hidden_states = mlp_output + attn_output + hidden_states\\n            # Override the present state to be the pre-residual stream addition\\n            outputs[0] = mlp_output + attn_output\\n        else:\\n            raise NotImplementedError\\n            # pseudocode:\\n            # x = x + attn(ln1(x))\\n            # x = x + mlp(ln2(x))\\n            attn_output = attn_output + hidden_states\\n            mlp_output = self.mlp(self.post_attention_layernorm(attn_output))\\n            mlp_output = self.post_mlp_dropout(mlp_output)\\n            hidden_states = mlp_output + attn_output\\n\\n        outputs = tuple(outputs)\\n        if use_cache:\\n            outputs = (hidden_states,) + outputs  # hidden_states, present, (attn_weights)\\n        else:\\n            outputs = (hidden_states,) + outputs[1:]  # hidden_states, (attn_weights)\\n\\n        return outputs\\n\\n'"
      ]
     },
     "execution_count": 100,
     "metadata": {},
     "output_type": "execute_result"
    }
   ],
   "source": [
    "# TODO: make this a bit nicer with hooks\n",
    "# But we are changing to GPTNeoxLayer to\n",
    "\"\"\"\n",
    "   class GPTNeoXLayer(nn.Module):\n",
    "    def __init__(self, config):\n",
    "        super().__init__()\n",
    "        self.use_parallel_residual = config.use_parallel_residual\n",
    "        self.input_layernorm = nn.LayerNorm(config.hidden_size, eps=config.layer_norm_eps)\n",
    "        self.post_attention_layernorm = nn.LayerNorm(config.hidden_size, eps=config.layer_norm_eps)\n",
    "        self.post_attention_dropout = nn.Dropout(config.hidden_dropout)\n",
    "        self.post_mlp_dropout = nn.Dropout(config.hidden_dropout)\n",
    "        self.attention = GPTNeoXAttention(config)\n",
    "        self.mlp = GPTNeoXMLP(config)\n",
    "\n",
    "    def forward(\n",
    "        self,\n",
    "        hidden_states: Optional[torch.FloatTensor],\n",
    "        attention_mask: Optional[torch.FloatTensor] = None,\n",
    "        position_ids: Optional[torch.LongTensor] = None,\n",
    "        head_mask: Optional[torch.FloatTensor] = None,\n",
    "        use_cache: Optional[bool] = False,\n",
    "        layer_past: Optional[Tuple[torch.Tensor]] = None,\n",
    "        output_attentions: Optional[bool] = False,\n",
    "    ):\n",
    "        attention_layer_outputs = self.attention(\n",
    "            self.input_layernorm(hidden_states),\n",
    "            attention_mask=attention_mask,\n",
    "            position_ids=position_ids,\n",
    "            layer_past=layer_past,\n",
    "            head_mask=head_mask,\n",
    "            use_cache=use_cache,\n",
    "            output_attentions=output_attentions,\n",
    "        )\n",
    "        attn_output = attention_layer_outputs[0]  # output_attn: attn_output, present, (attn_weights)\n",
    "        attn_output = self.post_attention_dropout(attn_output)\n",
    "        outputs = list(attention_layer_outputs[1:])\n",
    "\n",
    "        if self.use_parallel_residual:\n",
    "            # pseudocode:\n",
    "            # x = x + attn(ln1(x)) + mlp(ln2(x))\n",
    "            mlp_output = self.mlp(self.post_attention_layernorm(hidden_states))\n",
    "            mlp_output = self.post_mlp_dropout(mlp_output)\n",
    "            hidden_states = mlp_output + attn_output + hidden_states\n",
    "            # Override the present state to be the pre-residual stream addition\n",
    "            outputs[0] = mlp_output + attn_output\n",
    "        else:\n",
    "            raise NotImplementedError\n",
    "            # pseudocode:\n",
    "            # x = x + attn(ln1(x))\n",
    "            # x = x + mlp(ln2(x))\n",
    "            attn_output = attn_output + hidden_states\n",
    "            mlp_output = self.mlp(self.post_attention_layernorm(attn_output))\n",
    "            mlp_output = self.post_mlp_dropout(mlp_output)\n",
    "            hidden_states = mlp_output + attn_output\n",
    "\n",
    "        outputs = tuple(outputs)\n",
    "        if use_cache:\n",
    "            outputs = (hidden_states,) + outputs  # hidden_states, present, (attn_weights)\n",
    "        else:\n",
    "            outputs = (hidden_states,) + outputs[1:]  # hidden_states, (attn_weights)\n",
    "\n",
    "        return outputs\n",
    "\n",
    "\"\"\""
   ]
  },
  {
   "cell_type": "code",
   "execution_count": 101,
   "metadata": {},
   "outputs": [
    {
     "name": "stdout",
     "output_type": "stream",
     "text": [
      "\u001b[0;31mSignature:\u001b[0m      \n",
      "\u001b[0mdecomp\u001b[0m\u001b[0;34m.\u001b[0m\u001b[0mmodel\u001b[0m\u001b[0;34m[\u001b[0m\u001b[0;36m0\u001b[0m\u001b[0;34m]\u001b[0m\u001b[0;34m.\u001b[0m\u001b[0mforward\u001b[0m\u001b[0;34m(\u001b[0m\u001b[0;34m\u001b[0m\n",
      "\u001b[0;34m\u001b[0m    \u001b[0minput_ids\u001b[0m\u001b[0;34m:\u001b[0m \u001b[0mOptional\u001b[0m\u001b[0;34m[\u001b[0m\u001b[0mtorch\u001b[0m\u001b[0;34m.\u001b[0m\u001b[0mLongTensor\u001b[0m\u001b[0;34m]\u001b[0m \u001b[0;34m=\u001b[0m \u001b[0;32mNone\u001b[0m\u001b[0;34m,\u001b[0m\u001b[0;34m\u001b[0m\n",
      "\u001b[0;34m\u001b[0m    \u001b[0mattention_mask\u001b[0m\u001b[0;34m:\u001b[0m \u001b[0mOptional\u001b[0m\u001b[0;34m[\u001b[0m\u001b[0mtorch\u001b[0m\u001b[0;34m.\u001b[0m\u001b[0mFloatTensor\u001b[0m\u001b[0;34m]\u001b[0m \u001b[0;34m=\u001b[0m \u001b[0;32mNone\u001b[0m\u001b[0;34m,\u001b[0m\u001b[0;34m\u001b[0m\n",
      "\u001b[0;34m\u001b[0m    \u001b[0mposition_ids\u001b[0m\u001b[0;34m:\u001b[0m \u001b[0mOptional\u001b[0m\u001b[0;34m[\u001b[0m\u001b[0mtorch\u001b[0m\u001b[0;34m.\u001b[0m\u001b[0mLongTensor\u001b[0m\u001b[0;34m]\u001b[0m \u001b[0;34m=\u001b[0m \u001b[0;32mNone\u001b[0m\u001b[0;34m,\u001b[0m\u001b[0;34m\u001b[0m\n",
      "\u001b[0;34m\u001b[0m    \u001b[0minputs_embeds\u001b[0m\u001b[0;34m:\u001b[0m \u001b[0mOptional\u001b[0m\u001b[0;34m[\u001b[0m\u001b[0mtorch\u001b[0m\u001b[0;34m.\u001b[0m\u001b[0mFloatTensor\u001b[0m\u001b[0;34m]\u001b[0m \u001b[0;34m=\u001b[0m \u001b[0;32mNone\u001b[0m\u001b[0;34m,\u001b[0m\u001b[0;34m\u001b[0m\n",
      "\u001b[0;34m\u001b[0m    \u001b[0mhead_mask\u001b[0m\u001b[0;34m:\u001b[0m \u001b[0mOptional\u001b[0m\u001b[0;34m[\u001b[0m\u001b[0mtorch\u001b[0m\u001b[0;34m.\u001b[0m\u001b[0mFloatTensor\u001b[0m\u001b[0;34m]\u001b[0m \u001b[0;34m=\u001b[0m \u001b[0;32mNone\u001b[0m\u001b[0;34m,\u001b[0m\u001b[0;34m\u001b[0m\n",
      "\u001b[0;34m\u001b[0m    \u001b[0mpast_key_values\u001b[0m\u001b[0;34m:\u001b[0m \u001b[0mOptional\u001b[0m\u001b[0;34m[\u001b[0m\u001b[0mTuple\u001b[0m\u001b[0;34m[\u001b[0m\u001b[0mTuple\u001b[0m\u001b[0;34m[\u001b[0m\u001b[0mtorch\u001b[0m\u001b[0;34m.\u001b[0m\u001b[0mFloatTensor\u001b[0m\u001b[0;34m]\u001b[0m\u001b[0;34m]\u001b[0m\u001b[0;34m]\u001b[0m \u001b[0;34m=\u001b[0m \u001b[0;32mNone\u001b[0m\u001b[0;34m,\u001b[0m\u001b[0;34m\u001b[0m\n",
      "\u001b[0;34m\u001b[0m    \u001b[0mlabels\u001b[0m\u001b[0;34m:\u001b[0m \u001b[0mOptional\u001b[0m\u001b[0;34m[\u001b[0m\u001b[0mtorch\u001b[0m\u001b[0;34m.\u001b[0m\u001b[0mLongTensor\u001b[0m\u001b[0;34m]\u001b[0m \u001b[0;34m=\u001b[0m \u001b[0;32mNone\u001b[0m\u001b[0;34m,\u001b[0m\u001b[0;34m\u001b[0m\n",
      "\u001b[0;34m\u001b[0m    \u001b[0muse_cache\u001b[0m\u001b[0;34m:\u001b[0m \u001b[0mOptional\u001b[0m\u001b[0;34m[\u001b[0m\u001b[0mbool\u001b[0m\u001b[0;34m]\u001b[0m \u001b[0;34m=\u001b[0m \u001b[0;32mNone\u001b[0m\u001b[0;34m,\u001b[0m\u001b[0;34m\u001b[0m\n",
      "\u001b[0;34m\u001b[0m    \u001b[0moutput_attentions\u001b[0m\u001b[0;34m:\u001b[0m \u001b[0mOptional\u001b[0m\u001b[0;34m[\u001b[0m\u001b[0mbool\u001b[0m\u001b[0;34m]\u001b[0m \u001b[0;34m=\u001b[0m \u001b[0;32mNone\u001b[0m\u001b[0;34m,\u001b[0m\u001b[0;34m\u001b[0m\n",
      "\u001b[0;34m\u001b[0m    \u001b[0moutput_hidden_states\u001b[0m\u001b[0;34m:\u001b[0m \u001b[0mOptional\u001b[0m\u001b[0;34m[\u001b[0m\u001b[0mbool\u001b[0m\u001b[0;34m]\u001b[0m \u001b[0;34m=\u001b[0m \u001b[0;32mNone\u001b[0m\u001b[0;34m,\u001b[0m\u001b[0;34m\u001b[0m\n",
      "\u001b[0;34m\u001b[0m    \u001b[0mreturn_dict\u001b[0m\u001b[0;34m:\u001b[0m \u001b[0mOptional\u001b[0m\u001b[0;34m[\u001b[0m\u001b[0mbool\u001b[0m\u001b[0;34m]\u001b[0m \u001b[0;34m=\u001b[0m \u001b[0;32mNone\u001b[0m\u001b[0;34m,\u001b[0m\u001b[0;34m\u001b[0m\n",
      "\u001b[0;34m\u001b[0m\u001b[0;34m)\u001b[0m \u001b[0;34m->\u001b[0m \u001b[0mUnion\u001b[0m\u001b[0;34m[\u001b[0m\u001b[0mTuple\u001b[0m\u001b[0;34m,\u001b[0m \u001b[0mtransformers\u001b[0m\u001b[0;34m.\u001b[0m\u001b[0mmodeling_outputs\u001b[0m\u001b[0;34m.\u001b[0m\u001b[0mCausalLMOutputWithPast\u001b[0m\u001b[0;34m]\u001b[0m\u001b[0;34m\u001b[0m\u001b[0;34m\u001b[0m\u001b[0m\n",
      "\u001b[0;31mCall signature:\u001b[0m  \u001b[0mdecomp\u001b[0m\u001b[0;34m.\u001b[0m\u001b[0mmodel\u001b[0m\u001b[0;34m[\u001b[0m\u001b[0;36m0\u001b[0m\u001b[0;34m]\u001b[0m\u001b[0;34m.\u001b[0m\u001b[0mforward\u001b[0m\u001b[0;34m(\u001b[0m\u001b[0;34m*\u001b[0m\u001b[0margs\u001b[0m\u001b[0;34m,\u001b[0m \u001b[0;34m**\u001b[0m\u001b[0mkwargs\u001b[0m\u001b[0;34m)\u001b[0m\u001b[0;34m\u001b[0m\u001b[0;34m\u001b[0m\u001b[0m\n",
      "\u001b[0;31mType:\u001b[0m            partial\n",
      "\u001b[0;31mString form:\u001b[0m    \n",
      "functools.partial(<function add_hook_to_module.<locals>.new_forward at 0x7e3dfa5e3eb0>, GPTNeoXFo <...> ntwise_affine=True)\n",
      "           )\n",
      "           (embed_out): Linear(in_features=512, out_features=50304, bias=False)\n",
      "           ))\n",
      "\u001b[0;31mFile:\u001b[0m            ~/.local/lib/python3.10/site-packages/transformers/models/gpt_neox/modeling_gpt_neox.py\n",
      "\u001b[0;31mDocstring:\u001b[0m      \n",
      "The [`GPTNeoXForCausalLM`] forward method, overrides the `__call__` special method.\n",
      "\n",
      "<Tip>\n",
      "\n",
      "Although the recipe for forward pass needs to be defined within this function, one should call the [`Module`]\n",
      "instance afterwards instead of this since the former takes care of running the pre and post processing steps while\n",
      "the latter silently ignores them.\n",
      "\n",
      "</Tip>\n",
      "\n",
      "Args:\n",
      "    input_ids (`torch.LongTensor` of shape `(batch_size, sequence_length)`):\n",
      "        Indices of input sequence tokens in the vocabulary.\n",
      "\n",
      "        Indices can be obtained using [`AutoTokenizer`]. See [`PreTrainedTokenizer.encode`] and\n",
      "        [`PreTrainedTokenizer.__call__`] for details.\n",
      "\n",
      "        [What are input IDs?](../glossary#input-ids)\n",
      "    attention_mask (`torch.FloatTensor` of shape `(batch_size, sequence_length)`, *optional*):\n",
      "        Mask to avoid performing attention on padding token indices. Mask values selected in `[0, 1]`:\n",
      "\n",
      "        - 1 for tokens that are **not masked**,\n",
      "        - 0 for tokens that are **masked**.\n",
      "\n",
      "        [What are attention masks?](../glossary#attention-mask)\n",
      "    position_ids (`torch.LongTensor` of shape `(batch_size, sequence_length)`, *optional*):\n",
      "        Indices of positions of each input sequence tokens in the position embeddings. Selected in the range `[0,\n",
      "        config.n_positions - 1]`.\n",
      "\n",
      "        [What are position IDs?](../glossary#position-ids)\n",
      "    head_mask (`torch.FloatTensor` of shape `(num_heads,)` or `(num_layers, num_heads)`, *optional*):\n",
      "        Mask to nullify selected heads of the self-attention modules. Mask values selected in `[0, 1]`:\n",
      "\n",
      "        - 1 indicates the head is **not masked**,\n",
      "        - 0 indicates the head is **masked**.\n",
      "\n",
      "    inputs_embeds (`torch.FloatTensor` of shape `(batch_size, sequence_length, hidden_size)`, *optional*):\n",
      "        Optionally, instead of passing `input_ids` you can choose to directly pass an embedded representation. This\n",
      "        is useful if you want more control over how to convert *input_ids* indices into associated vectors than the\n",
      "        model's internal embedding lookup matrix.\n",
      "    output_attentions (`bool`, *optional*):\n",
      "        Whether or not to return the attentions tensors of all attention layers. See `attentions` under returned\n",
      "        tensors for more detail.\n",
      "    output_hidden_states (`bool`, *optional*):\n",
      "        Whether or not to return the hidden states of all layers. See `hidden_states` under returned tensors for\n",
      "        more detail.\n",
      "    return_dict (`bool`, *optional*):\n",
      "        Whether or not to return a [`~file_utils.ModelOutput`] instead of a plain tuple.\n",
      "\n",
      "    past_key_values (`tuple(tuple(torch.FloatTensor))`, *optional*, returned when `use_cache=True` is passed or when `config.use_cache=True`):\n",
      "        Tuple of `tuple(torch.FloatTensor)` of length `config.n_layers`, with each tuple having 2 tensors of shape\n",
      "        `(batch_size, num_heads, sequence_length, embed_size_per_head)`) and 2 additional tensors of shape\n",
      "        `(batch_size, num_heads, encoder_sequence_length, embed_size_per_head)`. The two additional tensors are\n",
      "        only required when the model is used as a decoder in a Sequence to Sequence model.\n",
      "\n",
      "        Contains pre-computed hidden-states (key and values in the self-attention blocks that can be used (see\n",
      "        `past_key_values` input) to speed up sequential decoding.\n",
      "\n",
      "        If `past_key_values` are used, the user can optionally input only the last `decoder_input_ids` (those that\n",
      "        don't have their past key value states given to this model) of shape `(batch_size, 1)` instead of all\n",
      "        `decoder_input_ids` of shape `(batch_size, sequence_length)`.\n",
      "    labels (`torch.LongTensor` of shape `(batch_size, sequence_length)`, *optional*):\n",
      "        Labels for computing the left-to-right language modeling loss (next word prediction). Indices should be in\n",
      "        `[-100, 0, ..., config.vocab_size]` (see `input_ids` docstring) Tokens with indices set to `-100` are\n",
      "        ignored (masked), the loss is only computed for the tokens with labels n `[0, ..., config.vocab_size]`.\n",
      "    use_cache (`bool`, *optional*):\n",
      "        If set to `True`, `past_key_values` key value states are returned and can be used to speed up decoding (see\n",
      "        `past_key_values`).\n",
      "\n",
      "\n",
      "    Returns:\n",
      "        [`transformers.modeling_outputs.CausalLMOutputWithPast`] or `tuple(torch.FloatTensor)`: A [`transformers.modeling_outputs.CausalLMOutputWithPast`] or a tuple of\n",
      "        `torch.FloatTensor` (if `return_dict=False` is passed or when `config.return_dict=False`) comprising various\n",
      "        elements depending on the configuration ([`GPTNeoXConfig`]) and inputs.\n",
      "\n",
      "        - **loss** (`torch.FloatTensor` of shape `(1,)`, *optional*, returned when `labels` is provided) -- Language modeling loss (for next-token prediction).\n",
      "        - **logits** (`torch.FloatTensor` of shape `(batch_size, sequence_length, config.vocab_size)`) -- Prediction scores of the language modeling head (scores for each vocabulary token before SoftMax).\n",
      "        - **past_key_values** (`tuple(tuple(torch.FloatTensor))`, *optional*, returned when `use_cache=True` is passed or when `config.use_cache=True`) -- Tuple of `tuple(torch.FloatTensor)` of length `config.n_layers`, with each tuple having 2 tensors of shape\n",
      "          `(batch_size, num_heads, sequence_length, embed_size_per_head)`)\n",
      "\n",
      "          Contains pre-computed hidden-states (key and values in the self-attention blocks) that can be used (see\n",
      "          `past_key_values` input) to speed up sequential decoding.\n",
      "        - **hidden_states** (`tuple(torch.FloatTensor)`, *optional*, returned when `output_hidden_states=True` is passed or when `config.output_hidden_states=True`) -- Tuple of `torch.FloatTensor` (one for the output of the embeddings, if the model has an embedding layer, +\n",
      "          one for the output of each layer) of shape `(batch_size, sequence_length, hidden_size)`.\n",
      "\n",
      "          Hidden-states of the model at the output of each layer plus the optional initial embedding outputs.\n",
      "        - **attentions** (`tuple(torch.FloatTensor)`, *optional*, returned when `output_attentions=True` is passed or when `config.output_attentions=True`) -- Tuple of `torch.FloatTensor` (one for each layer) of shape `(batch_size, num_heads, sequence_length,\n",
      "          sequence_length)`.\n",
      "\n",
      "          Attentions weights after the attention softmax, used to compute the weighted average in the self-attention\n",
      "          heads.\n",
      "  \n",
      "\n",
      "    Example:\n",
      "\n",
      "    ```python\n",
      "    >>> from transformers import AutoTokenizer, GPTNeoXForCausalLM, GPTNeoXConfig\n",
      "    >>> import torch\n",
      "\n",
      "    >>> tokenizer = AutoTokenizer.from_pretrained(\"EleutherAI/gpt-neox-20b\")\n",
      "    >>> config = GPTNeoXConfig.from_pretrained(\"EleutherAI/gpt-neox-20b\")\n",
      "    >>> config.is_decoder = True\n",
      "    >>> model = GPTNeoXForCausalLM.from_pretrained(\"EleutherAI/gpt-neox-20b\", config=config)\n",
      "\n",
      "    >>> inputs = tokenizer(\"Hello, my dog is cute\", return_tensors=\"pt\")\n",
      "    >>> outputs = model(**inputs)\n",
      "\n",
      "    >>> prediction_logits = outputs.logits\n",
      "    ```\n",
      "\u001b[0;31mClass docstring:\u001b[0m\n",
      "partial(func, *args, **keywords) - new function with partial application\n",
      "of the given arguments and keywords."
     ]
    }
   ],
   "source": [
    "decomp.model[0].forward?"
   ]
  },
  {
   "cell_type": "code",
   "execution_count": 102,
   "metadata": {},
   "outputs": [
    {
     "name": "stdout",
     "output_type": "stream",
     "text": [
      "Loading dataset from cache\n",
      "Got embeddings\n",
      "Using saved correlation for layer 0\n",
      "Using saved correlation for layer 1\n",
      "Using saved correlation for layer 2\n",
      "Using saved correlation for layer 3\n",
      "Using saved correlation for layer 4\n",
      "Using saved correlation for layer 5\n"
     ]
    }
   ],
   "source": [
    "# https://sporco.readthedocs.io/en/latest/examples/dl/cmod.h\n",
    "decomp.load(reload=False)"
   ]
  },
  {
   "cell_type": "markdown",
   "metadata": {},
   "source": [
    "## Try Something Like a NMF Decomposition"
   ]
  },
  {
   "cell_type": "code",
   "execution_count": 185,
   "metadata": {},
   "outputs": [],
   "source": [
    "from sklearn.decomposition import NMF\n",
    "\n",
    "D_SCALE = 2\n",
    "LAYER = 2\n",
    "\n",
    "model = NMF(n_components=N_DIMS * 2 * D_SCALE, l1_ratio=1, init='random', alpha_W=1, alpha_H=1)\n",
    "# TODO: delete diagonals?\n",
    "B = model.fit(decomp.internal_correlations[LAYER])\n"
   ]
  },
  {
   "cell_type": "markdown",
   "metadata": {},
   "source": [
    "## Try to do dictionary learning on the correlation lattice"
   ]
  },
  {
   "cell_type": "code",
   "execution_count": 103,
   "metadata": {},
   "outputs": [],
   "source": [
    "import importlib\n",
    "import src.model as smodel\n",
    "import torch\n",
    "from torch.utils.data import DataLoader, TensorDataset\n",
    "# import SparseAutoencoder, train_autoencoder\n",
    "importlib.reload(smodel)\n",
    "\n",
    "D_SCALE = 3\n",
    "LAYER = 2\n",
    "\n",
    "if False:\n",
    "    # hidden_size = 10  # Number of hidden units\n",
    "    autoencoder = smodel.SparseAutoencoder(N_DIMS * 2, N_DIMS * 2 * D_SCALE, beta=1, lamda=0.001)\n",
    "    \n",
    "    # # Train the autoencoder\n",
    "    dataset = TensorDataset(torch.FloatTensor(decomp.internal_correlations[LAYER]))\n",
    "    smodel.train_autoencoder(autoencoder, dataset, num_epochs=100, batch_size=32)"
   ]
  },
  {
   "cell_type": "code",
   "execution_count": 179,
   "metadata": {},
   "outputs": [],
   "source": [
    "\"\"\"\n",
    "What's the idea here?\n",
    "\n",
    "The i\n",
    "\n",
    "\"\"\"\n",
    "from sklearn.decomposition import DictionaryLearning\n",
    "import numpy as np\n",
    "\n",
    "D_SCALE = 3\n",
    "\n",
    "internal_corrs = np.array(decomp.internal_correlations[LAYER])\n",
    "\n",
    "# Hrmm why would the below effect anything?\n",
    "# for i in range(N_DIMS * 2):\n",
    "#     internal_corrs[i, i] = 0.0\n",
    "\n",
    "d = DictionaryLearning(n_components=N_DIMS * 2 * D_SCALE, alpha=100, fit_algorithm='cd', max_iter=3_000, transform_alpha=5, positive_dict=True)\n",
    "dfit = d.fit(internal_corrs)"
   ]
  },
  {
   "cell_type": "code",
   "execution_count": 181,
   "metadata": {},
   "outputs": [
    {
     "data": {
      "text/plain": [
       "[<matplotlib.lines.Line2D at 0x7e3ca3881240>]"
      ]
     },
     "execution_count": 181,
     "metadata": {},
     "output_type": "execute_result"
    },
    {
     "data": {
      "image/png": "[encoded data removed]",
      "text/plain": [
       "<Figure size 640x480 with 1 Axes>"
      ]
     },
     "metadata": {},
     "output_type": "display_data"
    }
   ],
   "source": [
    "import matplotlib.pyplot as plot\n",
    "\n",
    "a = np.array(dfit.components_[0])\n",
    "a.sort()\n",
    "plot.plot(a)"
   ]
  },
  {
   "cell_type": "code",
   "execution_count": 182,
   "metadata": {},
   "outputs": [],
   "source": [
    "X = dfit.transform(internal_corrs)"
   ]
  },
  {
   "cell_type": "code",
   "execution_count": 183,
   "metadata": {},
   "outputs": [
    {
     "data": {
      "text/plain": [
       "(0.06115304998789689,\n",
       " array([1.        , 0.        , 0.45802488, ..., 0.56535323, 0.75646269,\n",
       "        0.2358806 ]))"
      ]
     },
     "execution_count": 183,
     "metadata": {},
     "output_type": "execute_result"
    }
   ],
   "source": [
    "dfit.components_[1].max(), decomp.internal_correlations[LAYER][0]"
   ]
  },
  {
   "cell_type": "code",
   "execution_count": 184,
   "metadata": {},
   "outputs": [
    {
     "data": {
      "text/plain": [
       "(array([0.4383516 , 0.54469093, 0.43880114, ..., 0.54261433, 0.66154967,\n",
       "        0.33102909]),\n",
       " array([0.43885553, 0.54500787, 0.43904086, ..., 0.54414296, 0.66130015,\n",
       "        0.32963073]),\n",
       " 0.8066932876278969,\n",
       " array([ 2.14876224e-02,  1.76223953e-02,  1.00580212e-01, -3.38107774e-02,\n",
       "        -4.27012532e-02, -8.87312513e-02,  7.94235353e-02,  6.12939324e-02,\n",
       "        -5.07053268e-02,  7.34634308e-02,  1.06779902e-01,  9.46318141e-02,\n",
       "        -7.62439501e-02,  1.17583990e-01,  4.86965965e-02,  9.42712537e-02,\n",
       "         5.26422502e-02,  1.38234717e-03,  1.97326045e-02, -5.31515318e-03,\n",
       "        -1.74065600e-02, -4.08712222e-02,  1.41207139e-02,  1.01808929e-01,\n",
       "         1.47019928e-02,  4.49928121e-02,  7.04316908e-02, -5.21354346e-02,\n",
       "         6.38773643e-02,  1.58208917e-02,  1.07919003e-01,  4.52938226e-02,\n",
       "         5.15131876e-02,  1.13757450e-01,  6.71773751e-02,  9.55582346e-02,\n",
       "         1.81891533e-02,  5.38486439e-02, -6.68131690e-03,  9.25226148e-02,\n",
       "         1.25199303e-01,  6.06040931e-02,  9.50482221e-02, -1.11132935e-02,\n",
       "         8.35934591e-02,  2.84405484e-02,  1.16707408e-01, -2.24510801e-02,\n",
       "         8.43207089e-02,  1.48105615e-01,  7.69137439e-02,  9.11962295e-02,\n",
       "         7.86289867e-02,  1.05851763e-02, -4.34802156e-03,  5.14364578e-02,\n",
       "         9.66538329e-02,  8.85750825e-02,  1.07748315e-01,  1.20893627e-01,\n",
       "        -4.76791989e-02,  1.01827933e-01,  1.33245480e-01,  1.32340787e-01,\n",
       "        -4.13714781e-02,  1.46086432e-01,  6.80801734e-02,  9.52739934e-02,\n",
       "         1.43647828e-01,  2.99060064e-04,  9.03233692e-02,  1.37942167e+01,\n",
       "         1.77821554e-02,  5.31351383e-02,  6.70111214e-02,  7.76395482e-02,\n",
       "         9.37561550e-02,  3.47903841e-02,  1.68926356e-01, -3.84933924e-02,\n",
       "         9.82567152e-03, -5.08883488e-03, -1.29055213e-02, -9.58974286e-02,\n",
       "         1.24029285e-01, -4.78142014e-02,  8.52126078e-02, -6.51108093e-02,\n",
       "         8.16787337e-03,  1.69842473e-01,  7.79404199e-02, -8.32537057e-04,\n",
       "         7.56274773e-02,  6.59708846e-02, -3.58303845e-02,  1.10132988e-01,\n",
       "        -1.68290402e-02, -1.99266724e+00, -6.73368532e-02, -4.03218569e-02,\n",
       "         7.80398572e-02, -4.80687004e-02]),\n",
       " (102,))"
      ]
     },
     "execution_count": 184,
     "metadata": {},
     "output_type": "execute_result"
    }
   ],
   "source": [
    "idx = 100\n",
    "reconstr = None\n",
    "for i in X[idx].nonzero()[0]:\n",
    "    if reconstr is None:\n",
    "        reconstr = dfit.components_[i] * X[idx][i]\n",
    "    else: reconstr += dfit.components_[i] * X[idx][i]\n",
    "\n",
    "diff = np.abs(reconstr - decomp.internal_correlations[LAYER][idx]).sum()\n",
    "reconstr, decomp.internal_correlations[LAYER][idx], diff, X[idx][X[idx].nonzero()[0]], X[idx].nonzero()[0].shape"
   ]
  },
  {
   "cell_type": "markdown",
   "metadata": {},
   "source": [
    "## Build Up a \"Concept\" Lattice Using Graph Restrictions\n",
    "\n",
    "> TODO: this is for latter..."
   ]
  },
  {
   "cell_type": "code",
   "execution_count": 109,
   "metadata": {},
   "outputs": [],
   "source": [
    "import src.graph as graph\n",
    "import networkx as nx\n",
    "\n",
    "LAYER = 3\n",
    "\n",
    "G = graph.di_graph_from_correlations(decomp.internal_correlations[LAYER])\n",
    "MAX_CLIQUE_SIZE = 1_000"
   ]
  },
  {
   "cell_type": "code",
   "execution_count": 110,
   "metadata": {},
   "outputs": [],
   "source": [
    "GG = graph.sparsify_weighted_digraph(G, degree_upperbound=50)"
   ]
  },
  {
   "cell_type": "code",
   "execution_count": 111,
   "metadata": {},
   "outputs": [
    {
     "ename": "NetworkXNotImplemented",
     "evalue": "not implemented for directed type",
     "output_type": "error",
     "traceback": [
      "\u001b[0;31m---------------------------------------------------------------------------\u001b[0m",
      "\u001b[0;31mNetworkXNotImplemented\u001b[0m                    Traceback (most recent call last)",
      "Cell \u001b[0;32mIn[111], line 1\u001b[0m\n\u001b[0;32m----> 1\u001b[0m \u001b[43mnx\u001b[49m\u001b[38;5;241;43m.\u001b[39;49m\u001b[43mis_connected\u001b[49m\u001b[43m(\u001b[49m\u001b[43mGG\u001b[49m\u001b[43m)\u001b[49m\n",
      "File \u001b[0;32m~/.local/lib/python3.10/site-packages/networkx/classes/backends.py:148\u001b[0m, in \u001b[0;36m_dispatch.<locals>.wrapper\u001b[0;34m(*args, **kwds)\u001b[0m\n\u001b[1;32m    144\u001b[0m         \u001b[38;5;28;01melse\u001b[39;00m:\n\u001b[1;32m    145\u001b[0m             \u001b[38;5;28;01mraise\u001b[39;00m NetworkXNotImplemented(\n\u001b[1;32m    146\u001b[0m                 \u001b[38;5;124mf\u001b[39m\u001b[38;5;124m\"\u001b[39m\u001b[38;5;124m'\u001b[39m\u001b[38;5;132;01m{\u001b[39;00mname\u001b[38;5;132;01m}\u001b[39;00m\u001b[38;5;124m'\u001b[39m\u001b[38;5;124m not implemented by \u001b[39m\u001b[38;5;132;01m{\u001b[39;00mplugin_name\u001b[38;5;132;01m}\u001b[39;00m\u001b[38;5;124m\"\u001b[39m\n\u001b[1;32m    147\u001b[0m             )\n\u001b[0;32m--> 148\u001b[0m \u001b[38;5;28;01mreturn\u001b[39;00m \u001b[43mfunc\u001b[49m\u001b[43m(\u001b[49m\u001b[38;5;241;43m*\u001b[39;49m\u001b[43margs\u001b[49m\u001b[43m,\u001b[49m\u001b[43m \u001b[49m\u001b[38;5;241;43m*\u001b[39;49m\u001b[38;5;241;43m*\u001b[39;49m\u001b[43mkwds\u001b[49m\u001b[43m)\u001b[49m\n",
      "File \u001b[0;32m<class 'networkx.utils.decorators.argmap'> compilation 20:3\u001b[0m, in \u001b[0;36margmap_is_connected_17\u001b[0;34m(G)\u001b[0m\n\u001b[1;32m      1\u001b[0m \u001b[38;5;28;01mimport\u001b[39;00m \u001b[38;5;21;01mbz2\u001b[39;00m\n\u001b[1;32m      2\u001b[0m \u001b[38;5;28;01mimport\u001b[39;00m \u001b[38;5;21;01mcollections\u001b[39;00m\n\u001b[0;32m----> 3\u001b[0m \u001b[38;5;28;01mimport\u001b[39;00m \u001b[38;5;21;01mgzip\u001b[39;00m\n\u001b[1;32m      4\u001b[0m \u001b[38;5;28;01mimport\u001b[39;00m \u001b[38;5;21;01minspect\u001b[39;00m\n\u001b[1;32m      5\u001b[0m \u001b[38;5;28;01mimport\u001b[39;00m \u001b[38;5;21;01mitertools\u001b[39;00m\n",
      "File \u001b[0;32m~/.local/lib/python3.10/site-packages/networkx/utils/decorators.py:86\u001b[0m, in \u001b[0;36mnot_implemented_for.<locals>._not_implemented_for\u001b[0;34m(g)\u001b[0m\n\u001b[1;32m     82\u001b[0m \u001b[38;5;28;01mdef\u001b[39;00m \u001b[38;5;21m_not_implemented_for\u001b[39m(g):\n\u001b[1;32m     83\u001b[0m     \u001b[38;5;28;01mif\u001b[39;00m (mval \u001b[38;5;129;01mis\u001b[39;00m \u001b[38;5;28;01mNone\u001b[39;00m \u001b[38;5;129;01mor\u001b[39;00m mval \u001b[38;5;241m==\u001b[39m g\u001b[38;5;241m.\u001b[39mis_multigraph()) \u001b[38;5;129;01mand\u001b[39;00m (\n\u001b[1;32m     84\u001b[0m         dval \u001b[38;5;129;01mis\u001b[39;00m \u001b[38;5;28;01mNone\u001b[39;00m \u001b[38;5;129;01mor\u001b[39;00m dval \u001b[38;5;241m==\u001b[39m g\u001b[38;5;241m.\u001b[39mis_directed()\n\u001b[1;32m     85\u001b[0m     ):\n\u001b[0;32m---> 86\u001b[0m         \u001b[38;5;28;01mraise\u001b[39;00m nx\u001b[38;5;241m.\u001b[39mNetworkXNotImplemented(errmsg)\n\u001b[1;32m     88\u001b[0m     \u001b[38;5;28;01mreturn\u001b[39;00m g\n",
      "\u001b[0;31mNetworkXNotImplemented\u001b[0m: not implemented for directed type"
     ]
    }
   ],
   "source": [
    "nx.is_connected(GG)"
   ]
  },
  {
   "cell_type": "code",
   "execution_count": null,
   "metadata": {},
   "outputs": [
    {
     "data": {
      "text/plain": [
       "[0.7804636816254003,\n",
       " 0.7813018624377651,\n",
       " 0.7817276582904464,\n",
       " 0.7819791125341559,\n",
       " 0.782213803161618,\n",
       " 0.7823479120915964,\n",
       " 0.7833436708966859,\n",
       " 0.7835247179521566,\n",
       " 0.7869411429433557,\n",
       " 0.7878128509882152,\n",
       " 0.7910716979866896,\n",
       " 0.7912192178096659,\n",
       " 0.79138014852564,\n",
       " 0.7920272241127856,\n",
       " 0.7953866528087439,\n",
       " 0.7988600740951838,\n",
       " 0.80074430456138,\n",
       " 0.8030811526662531,\n",
       " 0.8040802641945921,\n",
       " 0.8048480378187183,\n",
       " 0.8060449600187752,\n",
       " 0.8073391111930666,\n",
       " 0.8090758218362866,\n",
       " 0.8101017551506211,\n",
       " 0.8137763398320286,\n",
       " 0.8160193116859169,\n",
       " 0.8231539067607664,\n",
       " 0.8258427908068329,\n",
       " 0.8313479623824451,\n",
       " 0.8318173436373695,\n",
       " 0.8386602517895161,\n",
       " 0.8412820813705932,\n",
       " 0.8418151643672573,\n",
       " 0.8424857090171491,\n",
       " 0.8467771947764572,\n",
       " 0.847658960991065,\n",
       " 0.8497845875312222,\n",
       " 0.8533854123011416,\n",
       " 0.8545387490989557,\n",
       " 0.8598863426818433,\n",
       " 0.8603825457227633,\n",
       " 0.8661056443095905,\n",
       " 0.8667191926642416,\n",
       " 0.8674266172698775,\n",
       " 0.8727473890667695,\n",
       " 0.8749501282416643,\n",
       " 0.8766365480361423,\n",
       " 0.8823227666672254,\n",
       " 0.9292005431411664,\n",
       " 0.962989288049218,\n",
       " 0.973047457797596]"
      ]
     },
     "execution_count": 19,
     "metadata": {},
     "output_type": "execute_result"
    }
   ],
   "source": [
    "cc = []\n",
    "for j in range(1_024):\n",
    "    c = GG.get_edge_data(0, j)\n",
    "    if c is not None:\n",
    "        cc.append(c['weight'])\n",
    "cc.sort()\n",
    "cc"
   ]
  },
  {
   "cell_type": "code",
   "execution_count": null,
   "metadata": {},
   "outputs": [
    {
     "ename": "NameError",
     "evalue": "name 'i' is not defined",
     "output_type": "error",
     "traceback": [
      "\u001b[0;31m---------------------------------------------------------------------------\u001b[0m",
      "\u001b[0;31mNameError\u001b[0m                                 Traceback (most recent call last)",
      "Cell \u001b[0;32mIn[10], line 1\u001b[0m\n\u001b[0;32m----> 1\u001b[0m \u001b[38;5;28mnext\u001b[39m(\u001b[43mi\u001b[49m)\n",
      "\u001b[0;31mNameError\u001b[0m: name 'i' is not defined"
     ]
    }
   ],
   "source": [
    "next(i)"
   ]
  },
  {
   "cell_type": "code",
   "execution_count": null,
   "metadata": {},
   "outputs": [
    {
     "data": {
      "text/plain": [
       "<networkx.classes.graph.Graph at 0x7cfd8fd7beb0>"
      ]
     },
     "execution_count": 19,
     "metadata": {},
     "output_type": "execute_result"
    }
   ],
   "source": [
    "GG.get_edge_data"
   ]
  },
  {
   "cell_type": "code",
   "execution_count": null,
   "metadata": {},
   "outputs": [
    {
     "data": {
      "text/plain": [
       "<module 'src.utils' from '/home/lev/code/research/ai/lattice_cluster_paths/src/utils.py'>"
      ]
     },
     "execution_count": 7,
     "metadata": {},
     "output_type": "execute_result"
    }
   ],
   "source": [
    "import importlib\n",
    "import src.utils as utils\n",
    "importlib.reload(utils)\n",
    "\n",
    "decomp.tune_clique((0.0, clique), 3)"
   ]
  },
  {
   "cell_type": "code",
   "execution_count": null,
   "metadata": {},
   "outputs": [],
   "source": [
    "# import networkx as nx\n",
    "\n",
    "# test_at = 100\n",
    "# GG = graph.sparsify_weighted_graph(G, degree_upperbound=test_at)\n",
    "\n",
    "# cliques = []\n",
    "\n",
    "# for node in range(N_DIMS * 2):\n",
    "#     if node % 50 == 0:\n",
    "#         print(\"On node\", node)\n",
    "#     c_it = nx.find_cliques(GG, nodes=[node])\n",
    "#     c_in_curr = []\n",
    "#     for c in c_it:\n",
    "#         c_in_curr.append(c)\n",
    "#         if len(c_in_curr) > 50:\n",
    "#             break\n",
    "#     cliques += c_in_curr\n",
    "#         # if len(cliques) > 10_000:\n",
    "#         #     break"
   ]
  },
  {
   "cell_type": "markdown",
   "metadata": {},
   "source": [
    "## Score a cell"
   ]
  },
  {
   "cell_type": "code",
   "execution_count": null,
   "metadata": {},
   "outputs": [
    {
     "data": {
      "text/plain": [
       "array([[1.        , 0.        , 0.50411391, ..., 0.41980654, 0.47819793,\n",
       "        0.52677501],\n",
       "       [0.        , 1.        , 0.51517917, ..., 0.56102004, 0.50169823,\n",
       "        0.55460722],\n",
       "       [0.50411391, 0.51517917, 1.        , ..., 0.47680901, 0.5166343 ,\n",
       "        0.52601947],\n",
       "       ...,\n",
       "       [0.41980654, 0.56102004, 0.47680901, ..., 1.        , 0.40289529,\n",
       "        0.57754201],\n",
       "       [0.47819793, 0.50169823, 0.5166343 , ..., 0.40289529, 1.        ,\n",
       "        0.        ],\n",
       "       [0.52677501, 0.55460722, 0.52601947, ..., 0.57754201, 0.        ,\n",
       "        1.        ]])"
      ]
     },
     "execution_count": 9,
     "metadata": {},
     "output_type": "execute_result"
    }
   ],
   "source": [
    "decomp.internal_correlations[0]"
   ]
  },
  {
   "cell_type": "code",
   "execution_count": null,
   "metadata": {},
   "outputs": [
    {
     "name": "stdout",
     "output_type": "stream",
     "text": [
      "GOT CLIQUES WITH LENGTH [9, 9, 10] [(23.79445227225935, [2, 771, 128, 217, 389, 593, 657, 661, 785]), (25.24844098956523, [2, 771, 128, 217, 389, 593, 657, 687, 936]), (29.81072255571707, [2, 771, 128, 217, 389, 593, 657, 687, 785, 613])]\n",
      "Got tuned clique [0.0, 0.8, 0.0, 1.0, 1.0, 1.0, 1.0, 0.8, 0.6]\n",
      "Got tuned clique [0.0, 0.0, 0.0, 0.4, 1.0, 1.0, 1.0, 0.6, 0.0]\n",
      "Got tuned clique [0.0, 0.8, 0.0, 0.6, 1.0, 1.0, 1.0, 1.0, 0.6, 1.0]\n",
      "Finished for neuron 2 2\n"
     ]
    }
   ],
   "source": [
    "import src.decorrelate as decc\n",
    "import src.kernel as kernel\n",
    "importlib.reload(decc)\n",
    "importlib.reload(utils)\n",
    "importlib.reload(kernel)\n",
    "\n",
    "LAYER = 2\n",
    "NEURON = 2\n",
    "\n",
    "# TODO: we **need** to do something like curr-clique removal so we get more interesting cliques...\n",
    "# Also the per-neuron thing makes no sense...\n",
    "\n",
    "# TODO: change size of subset??\n",
    "decomp.scores_for_neuron(LAYER, NEURON, degree_upperbound=400, n_features_per_neuron=3)"
   ]
  }
 ],
 "metadata": {
  "kernelspec": {
   "display_name": ".venv",
   "language": "python",
   "name": "python3"
  },
  "language_info": {
   "codemirror_mode": {
    "name": "ipython",
    "version": 3
   },
   "file_extension": ".py",
   "mimetype": "text/x-python",
   "name": "python",
   "nbconvert_exporter": "python",
   "pygments_lexer": "ipython3",
   "version": "3.10.14"
  }
 },
 "nbformat": 4,
 "nbformat_minor": 2
}
